{
  "nbformat": 4,
  "nbformat_minor": 0,
  "metadata": {
    "colab": {
      "provenance": [],
      "gpuType": "T4"
    },
    "kernelspec": {
      "name": "python3",
      "display_name": "Python 3"
    },
    "language_info": {
      "name": "python"
    },
    "accelerator": "GPU"
  },
  "cells": [
    {
      "cell_type": "code",
      "source": [
        "!pip install tensorflow"
      ],
      "metadata": {
        "colab": {
          "base_uri": "https://localhost:8080/"
        },
        "id": "NW9g5OTEWNlm",
        "outputId": "f4e7fc9c-3894-4e55-ab2f-5dc9cd22eeaa"
      },
      "execution_count": null,
      "outputs": [
        {
          "output_type": "stream",
          "name": "stdout",
          "text": [
            "Requirement already satisfied: tensorflow in /usr/local/lib/python3.10/dist-packages (2.15.0)\n",
            "Requirement already satisfied: absl-py>=1.0.0 in /usr/local/lib/python3.10/dist-packages (from tensorflow) (1.4.0)\n",
            "Requirement already satisfied: astunparse>=1.6.0 in /usr/local/lib/python3.10/dist-packages (from tensorflow) (1.6.3)\n",
            "Requirement already satisfied: flatbuffers>=23.5.26 in /usr/local/lib/python3.10/dist-packages (from tensorflow) (23.5.26)\n",
            "Requirement already satisfied: gast!=0.5.0,!=0.5.1,!=0.5.2,>=0.2.1 in /usr/local/lib/python3.10/dist-packages (from tensorflow) (0.5.4)\n",
            "Requirement already satisfied: google-pasta>=0.1.1 in /usr/local/lib/python3.10/dist-packages (from tensorflow) (0.2.0)\n",
            "Requirement already satisfied: h5py>=2.9.0 in /usr/local/lib/python3.10/dist-packages (from tensorflow) (3.9.0)\n",
            "Requirement already satisfied: libclang>=13.0.0 in /usr/local/lib/python3.10/dist-packages (from tensorflow) (16.0.6)\n",
            "Requirement already satisfied: ml-dtypes~=0.2.0 in /usr/local/lib/python3.10/dist-packages (from tensorflow) (0.2.0)\n",
            "Requirement already satisfied: numpy<2.0.0,>=1.23.5 in /usr/local/lib/python3.10/dist-packages (from tensorflow) (1.23.5)\n",
            "Requirement already satisfied: opt-einsum>=2.3.2 in /usr/local/lib/python3.10/dist-packages (from tensorflow) (3.3.0)\n",
            "Requirement already satisfied: packaging in /usr/local/lib/python3.10/dist-packages (from tensorflow) (23.2)\n",
            "Requirement already satisfied: protobuf!=4.21.0,!=4.21.1,!=4.21.2,!=4.21.3,!=4.21.4,!=4.21.5,<5.0.0dev,>=3.20.3 in /usr/local/lib/python3.10/dist-packages (from tensorflow) (3.20.3)\n",
            "Requirement already satisfied: setuptools in /usr/local/lib/python3.10/dist-packages (from tensorflow) (67.7.2)\n",
            "Requirement already satisfied: six>=1.12.0 in /usr/local/lib/python3.10/dist-packages (from tensorflow) (1.16.0)\n",
            "Requirement already satisfied: termcolor>=1.1.0 in /usr/local/lib/python3.10/dist-packages (from tensorflow) (2.4.0)\n",
            "Requirement already satisfied: typing-extensions>=3.6.6 in /usr/local/lib/python3.10/dist-packages (from tensorflow) (4.5.0)\n",
            "Requirement already satisfied: wrapt<1.15,>=1.11.0 in /usr/local/lib/python3.10/dist-packages (from tensorflow) (1.14.1)\n",
            "Requirement already satisfied: tensorflow-io-gcs-filesystem>=0.23.1 in /usr/local/lib/python3.10/dist-packages (from tensorflow) (0.35.0)\n",
            "Requirement already satisfied: grpcio<2.0,>=1.24.3 in /usr/local/lib/python3.10/dist-packages (from tensorflow) (1.60.0)\n",
            "Requirement already satisfied: tensorboard<2.16,>=2.15 in /usr/local/lib/python3.10/dist-packages (from tensorflow) (2.15.1)\n",
            "Requirement already satisfied: tensorflow-estimator<2.16,>=2.15.0 in /usr/local/lib/python3.10/dist-packages (from tensorflow) (2.15.0)\n",
            "Requirement already satisfied: keras<2.16,>=2.15.0 in /usr/local/lib/python3.10/dist-packages (from tensorflow) (2.15.0)\n",
            "Requirement already satisfied: wheel<1.0,>=0.23.0 in /usr/local/lib/python3.10/dist-packages (from astunparse>=1.6.0->tensorflow) (0.42.0)\n",
            "Requirement already satisfied: google-auth<3,>=1.6.3 in /usr/local/lib/python3.10/dist-packages (from tensorboard<2.16,>=2.15->tensorflow) (2.17.3)\n",
            "Requirement already satisfied: google-auth-oauthlib<2,>=0.5 in /usr/local/lib/python3.10/dist-packages (from tensorboard<2.16,>=2.15->tensorflow) (1.2.0)\n",
            "Requirement already satisfied: markdown>=2.6.8 in /usr/local/lib/python3.10/dist-packages (from tensorboard<2.16,>=2.15->tensorflow) (3.5.2)\n",
            "Requirement already satisfied: requests<3,>=2.21.0 in /usr/local/lib/python3.10/dist-packages (from tensorboard<2.16,>=2.15->tensorflow) (2.31.0)\n",
            "Requirement already satisfied: tensorboard-data-server<0.8.0,>=0.7.0 in /usr/local/lib/python3.10/dist-packages (from tensorboard<2.16,>=2.15->tensorflow) (0.7.2)\n",
            "Requirement already satisfied: werkzeug>=1.0.1 in /usr/local/lib/python3.10/dist-packages (from tensorboard<2.16,>=2.15->tensorflow) (3.0.1)\n",
            "Requirement already satisfied: cachetools<6.0,>=2.0.0 in /usr/local/lib/python3.10/dist-packages (from google-auth<3,>=1.6.3->tensorboard<2.16,>=2.15->tensorflow) (5.3.2)\n",
            "Requirement already satisfied: pyasn1-modules>=0.2.1 in /usr/local/lib/python3.10/dist-packages (from google-auth<3,>=1.6.3->tensorboard<2.16,>=2.15->tensorflow) (0.3.0)\n",
            "Requirement already satisfied: rsa<5,>=3.1.4 in /usr/local/lib/python3.10/dist-packages (from google-auth<3,>=1.6.3->tensorboard<2.16,>=2.15->tensorflow) (4.9)\n",
            "Requirement already satisfied: requests-oauthlib>=0.7.0 in /usr/local/lib/python3.10/dist-packages (from google-auth-oauthlib<2,>=0.5->tensorboard<2.16,>=2.15->tensorflow) (1.3.1)\n",
            "Requirement already satisfied: charset-normalizer<4,>=2 in /usr/local/lib/python3.10/dist-packages (from requests<3,>=2.21.0->tensorboard<2.16,>=2.15->tensorflow) (3.3.2)\n",
            "Requirement already satisfied: idna<4,>=2.5 in /usr/local/lib/python3.10/dist-packages (from requests<3,>=2.21.0->tensorboard<2.16,>=2.15->tensorflow) (3.6)\n",
            "Requirement already satisfied: urllib3<3,>=1.21.1 in /usr/local/lib/python3.10/dist-packages (from requests<3,>=2.21.0->tensorboard<2.16,>=2.15->tensorflow) (2.0.7)\n",
            "Requirement already satisfied: certifi>=2017.4.17 in /usr/local/lib/python3.10/dist-packages (from requests<3,>=2.21.0->tensorboard<2.16,>=2.15->tensorflow) (2023.11.17)\n",
            "Requirement already satisfied: MarkupSafe>=2.1.1 in /usr/local/lib/python3.10/dist-packages (from werkzeug>=1.0.1->tensorboard<2.16,>=2.15->tensorflow) (2.1.4)\n",
            "Requirement already satisfied: pyasn1<0.6.0,>=0.4.6 in /usr/local/lib/python3.10/dist-packages (from pyasn1-modules>=0.2.1->google-auth<3,>=1.6.3->tensorboard<2.16,>=2.15->tensorflow) (0.5.1)\n",
            "Requirement already satisfied: oauthlib>=3.0.0 in /usr/local/lib/python3.10/dist-packages (from requests-oauthlib>=0.7.0->google-auth-oauthlib<2,>=0.5->tensorboard<2.16,>=2.15->tensorflow) (3.2.2)\n"
          ]
        }
      ]
    },
    {
      "cell_type": "code",
      "execution_count": null,
      "metadata": {
        "colab": {
          "base_uri": "https://localhost:8080/"
        },
        "id": "UX2Q_qBQWDR7",
        "outputId": "1a5fa0a1-6bde-4cc6-e676-d411271e03fc"
      },
      "outputs": [
        {
          "output_type": "stream",
          "name": "stdout",
          "text": [
            "Tensorflow version: 2.15.0\n",
            "GPU detected: [PhysicalDevice(name='/physical_device:GPU:0', device_type='GPU')]\n"
          ]
        }
      ],
      "source": [
        "%matplotlib inline\n",
        "import matplotlib.pyplot as plt\n",
        "import pandas as pd\n",
        "import numpy as np\n",
        "np.random.seed(0)\n",
        "plt.style.use(\"ggplot\")\n",
        "\n",
        "import tensorflow as tf\n",
        "print('Tensorflow version:', tf.__version__)\n",
        "print('GPU detected:', tf.config.list_physical_devices('GPU'))"
      ]
    },
    {
      "cell_type": "code",
      "source": [
        "data= pd.read_csv(\"dataset-ner.csv\")"
      ],
      "metadata": {
        "id": "e1HMXb5eWSva"
      },
      "execution_count": null,
      "outputs": []
    },
    {
      "cell_type": "markdown",
      "source": [
        "### Preproses"
      ],
      "metadata": {
        "id": "g_zwfYiRwxlg"
      }
    },
    {
      "cell_type": "code",
      "source": [
        "print(data.isnull().sum())"
      ],
      "metadata": {
        "colab": {
          "base_uri": "https://localhost:8080/"
        },
        "id": "gOrKQijeWelB",
        "outputId": "45e0a21c-e748-4245-97dd-74035cd2b283"
      },
      "execution_count": null,
      "outputs": [
        {
          "output_type": "stream",
          "name": "stdout",
          "text": [
            "sentence    0\n",
            "word        0\n",
            "pos         0\n",
            "tag         0\n",
            "dtype: int64\n"
          ]
        }
      ]
    },
    {
      "cell_type": "code",
      "source": [
        "data.head()"
      ],
      "metadata": {
        "colab": {
          "base_uri": "https://localhost:8080/",
          "height": 206
        },
        "id": "eo9frlT8Wi55",
        "outputId": "d859b6ae-ccc1-4330-889d-d84b88fd4954"
      },
      "execution_count": null,
      "outputs": [
        {
          "output_type": "execute_result",
          "data": {
            "text/plain": [
              "                                            sentence           word pos tag\n",
              "0  Pertunjukan teater klasik akan diadakan di ged...    Pertunjukan  NN   O\n",
              "1  Pertunjukan teater klasik akan diadakan di ged...  teater klasik  NN   O\n",
              "2  Pertunjukan teater klasik akan diadakan di ged...           akan  MD   O\n",
              "3  Pertunjukan teater klasik akan diadakan di ged...       diadakan  VB   O\n",
              "4  Pertunjukan teater klasik akan diadakan di ged...             di  IN   O"
            ],
            "text/html": [
              "\n",
              "  <div id=\"df-a25ca164-b285-4683-ab6c-b667b6ee197b\" class=\"colab-df-container\">\n",
              "    <div>\n",
              "<style scoped>\n",
              "    .dataframe tbody tr th:only-of-type {\n",
              "        vertical-align: middle;\n",
              "    }\n",
              "\n",
              "    .dataframe tbody tr th {\n",
              "        vertical-align: top;\n",
              "    }\n",
              "\n",
              "    .dataframe thead th {\n",
              "        text-align: right;\n",
              "    }\n",
              "</style>\n",
              "<table border=\"1\" class=\"dataframe\">\n",
              "  <thead>\n",
              "    <tr style=\"text-align: right;\">\n",
              "      <th></th>\n",
              "      <th>sentence</th>\n",
              "      <th>word</th>\n",
              "      <th>pos</th>\n",
              "      <th>tag</th>\n",
              "    </tr>\n",
              "  </thead>\n",
              "  <tbody>\n",
              "    <tr>\n",
              "      <th>0</th>\n",
              "      <td>Pertunjukan teater klasik akan diadakan di ged...</td>\n",
              "      <td>Pertunjukan</td>\n",
              "      <td>NN</td>\n",
              "      <td>O</td>\n",
              "    </tr>\n",
              "    <tr>\n",
              "      <th>1</th>\n",
              "      <td>Pertunjukan teater klasik akan diadakan di ged...</td>\n",
              "      <td>teater klasik</td>\n",
              "      <td>NN</td>\n",
              "      <td>O</td>\n",
              "    </tr>\n",
              "    <tr>\n",
              "      <th>2</th>\n",
              "      <td>Pertunjukan teater klasik akan diadakan di ged...</td>\n",
              "      <td>akan</td>\n",
              "      <td>MD</td>\n",
              "      <td>O</td>\n",
              "    </tr>\n",
              "    <tr>\n",
              "      <th>3</th>\n",
              "      <td>Pertunjukan teater klasik akan diadakan di ged...</td>\n",
              "      <td>diadakan</td>\n",
              "      <td>VB</td>\n",
              "      <td>O</td>\n",
              "    </tr>\n",
              "    <tr>\n",
              "      <th>4</th>\n",
              "      <td>Pertunjukan teater klasik akan diadakan di ged...</td>\n",
              "      <td>di</td>\n",
              "      <td>IN</td>\n",
              "      <td>O</td>\n",
              "    </tr>\n",
              "  </tbody>\n",
              "</table>\n",
              "</div>\n",
              "    <div class=\"colab-df-buttons\">\n",
              "\n",
              "  <div class=\"colab-df-container\">\n",
              "    <button class=\"colab-df-convert\" onclick=\"convertToInteractive('df-a25ca164-b285-4683-ab6c-b667b6ee197b')\"\n",
              "            title=\"Convert this dataframe to an interactive table.\"\n",
              "            style=\"display:none;\">\n",
              "\n",
              "  <svg xmlns=\"http://www.w3.org/2000/svg\" height=\"24px\" viewBox=\"0 -960 960 960\">\n",
              "    <path d=\"M120-120v-720h720v720H120Zm60-500h600v-160H180v160Zm220 220h160v-160H400v160Zm0 220h160v-160H400v160ZM180-400h160v-160H180v160Zm440 0h160v-160H620v160ZM180-180h160v-160H180v160Zm440 0h160v-160H620v160Z\"/>\n",
              "  </svg>\n",
              "    </button>\n",
              "\n",
              "  <style>\n",
              "    .colab-df-container {\n",
              "      display:flex;\n",
              "      gap: 12px;\n",
              "    }\n",
              "\n",
              "    .colab-df-convert {\n",
              "      background-color: #E8F0FE;\n",
              "      border: none;\n",
              "      border-radius: 50%;\n",
              "      cursor: pointer;\n",
              "      display: none;\n",
              "      fill: #1967D2;\n",
              "      height: 32px;\n",
              "      padding: 0 0 0 0;\n",
              "      width: 32px;\n",
              "    }\n",
              "\n",
              "    .colab-df-convert:hover {\n",
              "      background-color: #E2EBFA;\n",
              "      box-shadow: 0px 1px 2px rgba(60, 64, 67, 0.3), 0px 1px 3px 1px rgba(60, 64, 67, 0.15);\n",
              "      fill: #174EA6;\n",
              "    }\n",
              "\n",
              "    .colab-df-buttons div {\n",
              "      margin-bottom: 4px;\n",
              "    }\n",
              "\n",
              "    [theme=dark] .colab-df-convert {\n",
              "      background-color: #3B4455;\n",
              "      fill: #D2E3FC;\n",
              "    }\n",
              "\n",
              "    [theme=dark] .colab-df-convert:hover {\n",
              "      background-color: #434B5C;\n",
              "      box-shadow: 0px 1px 3px 1px rgba(0, 0, 0, 0.15);\n",
              "      filter: drop-shadow(0px 1px 2px rgba(0, 0, 0, 0.3));\n",
              "      fill: #FFFFFF;\n",
              "    }\n",
              "  </style>\n",
              "\n",
              "    <script>\n",
              "      const buttonEl =\n",
              "        document.querySelector('#df-a25ca164-b285-4683-ab6c-b667b6ee197b button.colab-df-convert');\n",
              "      buttonEl.style.display =\n",
              "        google.colab.kernel.accessAllowed ? 'block' : 'none';\n",
              "\n",
              "      async function convertToInteractive(key) {\n",
              "        const element = document.querySelector('#df-a25ca164-b285-4683-ab6c-b667b6ee197b');\n",
              "        const dataTable =\n",
              "          await google.colab.kernel.invokeFunction('convertToInteractive',\n",
              "                                                    [key], {});\n",
              "        if (!dataTable) return;\n",
              "\n",
              "        const docLinkHtml = 'Like what you see? Visit the ' +\n",
              "          '<a target=\"_blank\" href=https://colab.research.google.com/notebooks/data_table.ipynb>data table notebook</a>'\n",
              "          + ' to learn more about interactive tables.';\n",
              "        element.innerHTML = '';\n",
              "        dataTable['output_type'] = 'display_data';\n",
              "        await google.colab.output.renderOutput(dataTable, element);\n",
              "        const docLink = document.createElement('div');\n",
              "        docLink.innerHTML = docLinkHtml;\n",
              "        element.appendChild(docLink);\n",
              "      }\n",
              "    </script>\n",
              "  </div>\n",
              "\n",
              "\n",
              "<div id=\"df-d8f4ab8c-f7ec-4142-af56-8f1f747ab7d4\">\n",
              "  <button class=\"colab-df-quickchart\" onclick=\"quickchart('df-d8f4ab8c-f7ec-4142-af56-8f1f747ab7d4')\"\n",
              "            title=\"Suggest charts\"\n",
              "            style=\"display:none;\">\n",
              "\n",
              "<svg xmlns=\"http://www.w3.org/2000/svg\" height=\"24px\"viewBox=\"0 0 24 24\"\n",
              "     width=\"24px\">\n",
              "    <g>\n",
              "        <path d=\"M19 3H5c-1.1 0-2 .9-2 2v14c0 1.1.9 2 2 2h14c1.1 0 2-.9 2-2V5c0-1.1-.9-2-2-2zM9 17H7v-7h2v7zm4 0h-2V7h2v10zm4 0h-2v-4h2v4z\"/>\n",
              "    </g>\n",
              "</svg>\n",
              "  </button>\n",
              "\n",
              "<style>\n",
              "  .colab-df-quickchart {\n",
              "      --bg-color: #E8F0FE;\n",
              "      --fill-color: #1967D2;\n",
              "      --hover-bg-color: #E2EBFA;\n",
              "      --hover-fill-color: #174EA6;\n",
              "      --disabled-fill-color: #AAA;\n",
              "      --disabled-bg-color: #DDD;\n",
              "  }\n",
              "\n",
              "  [theme=dark] .colab-df-quickchart {\n",
              "      --bg-color: #3B4455;\n",
              "      --fill-color: #D2E3FC;\n",
              "      --hover-bg-color: #434B5C;\n",
              "      --hover-fill-color: #FFFFFF;\n",
              "      --disabled-bg-color: #3B4455;\n",
              "      --disabled-fill-color: #666;\n",
              "  }\n",
              "\n",
              "  .colab-df-quickchart {\n",
              "    background-color: var(--bg-color);\n",
              "    border: none;\n",
              "    border-radius: 50%;\n",
              "    cursor: pointer;\n",
              "    display: none;\n",
              "    fill: var(--fill-color);\n",
              "    height: 32px;\n",
              "    padding: 0;\n",
              "    width: 32px;\n",
              "  }\n",
              "\n",
              "  .colab-df-quickchart:hover {\n",
              "    background-color: var(--hover-bg-color);\n",
              "    box-shadow: 0 1px 2px rgba(60, 64, 67, 0.3), 0 1px 3px 1px rgba(60, 64, 67, 0.15);\n",
              "    fill: var(--button-hover-fill-color);\n",
              "  }\n",
              "\n",
              "  .colab-df-quickchart-complete:disabled,\n",
              "  .colab-df-quickchart-complete:disabled:hover {\n",
              "    background-color: var(--disabled-bg-color);\n",
              "    fill: var(--disabled-fill-color);\n",
              "    box-shadow: none;\n",
              "  }\n",
              "\n",
              "  .colab-df-spinner {\n",
              "    border: 2px solid var(--fill-color);\n",
              "    border-color: transparent;\n",
              "    border-bottom-color: var(--fill-color);\n",
              "    animation:\n",
              "      spin 1s steps(1) infinite;\n",
              "  }\n",
              "\n",
              "  @keyframes spin {\n",
              "    0% {\n",
              "      border-color: transparent;\n",
              "      border-bottom-color: var(--fill-color);\n",
              "      border-left-color: var(--fill-color);\n",
              "    }\n",
              "    20% {\n",
              "      border-color: transparent;\n",
              "      border-left-color: var(--fill-color);\n",
              "      border-top-color: var(--fill-color);\n",
              "    }\n",
              "    30% {\n",
              "      border-color: transparent;\n",
              "      border-left-color: var(--fill-color);\n",
              "      border-top-color: var(--fill-color);\n",
              "      border-right-color: var(--fill-color);\n",
              "    }\n",
              "    40% {\n",
              "      border-color: transparent;\n",
              "      border-right-color: var(--fill-color);\n",
              "      border-top-color: var(--fill-color);\n",
              "    }\n",
              "    60% {\n",
              "      border-color: transparent;\n",
              "      border-right-color: var(--fill-color);\n",
              "    }\n",
              "    80% {\n",
              "      border-color: transparent;\n",
              "      border-right-color: var(--fill-color);\n",
              "      border-bottom-color: var(--fill-color);\n",
              "    }\n",
              "    90% {\n",
              "      border-color: transparent;\n",
              "      border-bottom-color: var(--fill-color);\n",
              "    }\n",
              "  }\n",
              "</style>\n",
              "\n",
              "  <script>\n",
              "    async function quickchart(key) {\n",
              "      const quickchartButtonEl =\n",
              "        document.querySelector('#' + key + ' button');\n",
              "      quickchartButtonEl.disabled = true;  // To prevent multiple clicks.\n",
              "      quickchartButtonEl.classList.add('colab-df-spinner');\n",
              "      try {\n",
              "        const charts = await google.colab.kernel.invokeFunction(\n",
              "            'suggestCharts', [key], {});\n",
              "      } catch (error) {\n",
              "        console.error('Error during call to suggestCharts:', error);\n",
              "      }\n",
              "      quickchartButtonEl.classList.remove('colab-df-spinner');\n",
              "      quickchartButtonEl.classList.add('colab-df-quickchart-complete');\n",
              "    }\n",
              "    (() => {\n",
              "      let quickchartButtonEl =\n",
              "        document.querySelector('#df-d8f4ab8c-f7ec-4142-af56-8f1f747ab7d4 button');\n",
              "      quickchartButtonEl.style.display =\n",
              "        google.colab.kernel.accessAllowed ? 'block' : 'none';\n",
              "    })();\n",
              "  </script>\n",
              "</div>\n",
              "    </div>\n",
              "  </div>\n"
            ]
          },
          "metadata": {},
          "execution_count": 7
        }
      ]
    },
    {
      "cell_type": "code",
      "source": [
        "print(\"Unique Words in corpus:\",data['word'].nunique())\n",
        "print(\"Unique Tag in corpus:\",data['tag'].nunique())"
      ],
      "metadata": {
        "colab": {
          "base_uri": "https://localhost:8080/"
        },
        "id": "GHBHV8lQWlSa",
        "outputId": "f2e5cc90-8bb4-461e-f702-bc32b6d7c86d"
      },
      "execution_count": null,
      "outputs": [
        {
          "output_type": "stream",
          "name": "stdout",
          "text": [
            "Unique Words in corpus: 328\n",
            "Unique Tag in corpus: 6\n"
          ]
        }
      ]
    },
    {
      "cell_type": "code",
      "source": [
        "words = list(set(data['word'].values))\n",
        "words.append(\"ENDPAD\")\n",
        "num_words = len(words)"
      ],
      "metadata": {
        "id": "g0r_rxoSWqk5"
      },
      "execution_count": null,
      "outputs": []
    },
    {
      "cell_type": "code",
      "source": [
        "tags = list(set(data['tag'].values))\n",
        "num_tags = len(tags)"
      ],
      "metadata": {
        "id": "zY4gbFycWtKT"
      },
      "execution_count": null,
      "outputs": []
    },
    {
      "cell_type": "markdown",
      "source": [
        "Menghitung jumlah kata dan tag unik dalam DataFrame, dan membuat list kata dan tag unik tersebut. “ENDPAD” ditambahkan sebagai kata tambahan untuk menandai akhir kalimat."
      ],
      "metadata": {
        "id": "bNozFt28xejv"
      }
    },
    {
      "cell_type": "code",
      "source": [
        "num_words, num_tags"
      ],
      "metadata": {
        "colab": {
          "base_uri": "https://localhost:8080/"
        },
        "id": "9kwNx-85WvaQ",
        "outputId": "27436737-8ade-4e5f-b25f-efe0d8a542b1"
      },
      "execution_count": null,
      "outputs": [
        {
          "output_type": "execute_result",
          "data": {
            "text/plain": [
              "(329, 6)"
            ]
          },
          "metadata": {},
          "execution_count": 11
        }
      ]
    },
    {
      "cell_type": "code",
      "source": [
        "class SentanceGetter(object):\n",
        "  def __init__(self,data):\n",
        "    self.n_sent = 1 #counter\n",
        "    self.data = data\n",
        "    agg_func = lambda s:[(w,p,t) for w,p,t in zip(s['word'].tolist(),s['pos'].tolist(),s['tag'].tolist())]\n",
        "    self.grouped = self.data.groupby(\"sentence\").apply(agg_func)\n",
        "    self.sentances = [s for s in self.grouped]"
      ],
      "metadata": {
        "id": "8q23PPEPWzaG"
      },
      "execution_count": null,
      "outputs": []
    },
    {
      "cell_type": "markdown",
      "source": [
        "SentanceGetter digunakan untuk mengelompokkan kata-kata dan tag-tag yang berhubungan dalam satu kalimat."
      ],
      "metadata": {
        "id": "msENx7Gixy4q"
      }
    },
    {
      "cell_type": "code",
      "source": [
        "getter = SentanceGetter(data)\n",
        "sentances = getter.sentances"
      ],
      "metadata": {
        "id": "mVnvHUrDW621"
      },
      "execution_count": null,
      "outputs": []
    },
    {
      "cell_type": "code",
      "source": [
        "sentances[0]"
      ],
      "metadata": {
        "colab": {
          "base_uri": "https://localhost:8080/"
        },
        "id": "JCLjcKXWW-E4",
        "outputId": "68f5a1b0-35e7-4047-e588-ef8c397c6fa0"
      },
      "execution_count": null,
      "outputs": [
        {
          "output_type": "execute_result",
          "data": {
            "text/plain": [
              "[('Acara', 'NN', 'O'),\n",
              " ('peluncuran produk terbaru', 'NN', 'O'),\n",
              " ('akan', 'MD', 'O'),\n",
              " ('digelar', 'VB', 'O'),\n",
              " ('besok', 'NN', 'WAKTU'),\n",
              " ('di', 'IN', 'O'),\n",
              " ('pusat perbelanjaan', 'NN', 'LOKASI'),\n",
              " ('.', '.', 'O')]"
            ]
          },
          "metadata": {},
          "execution_count": 14
        }
      ]
    },
    {
      "cell_type": "code",
      "source": [
        "word2idx =  {w : i+1 for i,w in enumerate(words)}\n",
        "tag2idx  =  {t : i for i,t in enumerate(tags)}"
      ],
      "metadata": {
        "id": "Lme32m-XXBiZ"
      },
      "execution_count": null,
      "outputs": []
    },
    {
      "cell_type": "markdown",
      "source": [
        "Membuat dua dictionary, word2idx dan tag2idx, yang masing-masing memetakan kata dan tag ke indeks unik."
      ],
      "metadata": {
        "id": "2ZvlsvXrx3Vq"
      }
    },
    {
      "cell_type": "code",
      "source": [
        "word2idx"
      ],
      "metadata": {
        "colab": {
          "base_uri": "https://localhost:8080/"
        },
        "id": "3KYut5t-XDtR",
        "outputId": "6d226f8e-2680-41a9-b499-fba06368341c"
      },
      "execution_count": null,
      "outputs": [
        {
          "output_type": "execute_result",
          "data": {
            "text/plain": [
              "{'bioskop': 1,\n",
              " 'menikmati': 2,\n",
              " 'hadir': 3,\n",
              " 'harga': 4,\n",
              " 'sejarah': 5,\n",
              " 'keuntungan': 6,\n",
              " 'sering': 7,\n",
              " 'kafe': 8,\n",
              " 'ke': 9,\n",
              " 'rilis': 10,\n",
              " 'diskon': 11,\n",
              " 'secara': 12,\n",
              " 'online': 13,\n",
              " 'perusahaan XYZ': 14,\n",
              " 'mohon': 15,\n",
              " 'lewatkan': 16,\n",
              " 'kunjungi': 17,\n",
              " 'danau': 18,\n",
              " 'panel': 19,\n",
              " 'kantor': 20,\n",
              " 'rencana': 21,\n",
              " 'resep': 22,\n",
              " 'Buku': 23,\n",
              " 'teknologi': 24,\n",
              " 'Besok': 25,\n",
              " 'inspirasi': 26,\n",
              " 'Acara': 27,\n",
              " 'Harap': 28,\n",
              " 'laboratorium': 29,\n",
              " 'Mohon': 30,\n",
              " 'pemasaran online': 31,\n",
              " 'proposal bisnis': 32,\n",
              " 'Surabaya': 33,\n",
              " 'aplikasi': 34,\n",
              " 'oleh': 35,\n",
              " 'Promosi': 36,\n",
              " 'pesta': 37,\n",
              " 'diterima': 38,\n",
              " 'dipamerkan': 39,\n",
              " 'kerjasama baru': 40,\n",
              " 'Silakan': 41,\n",
              " 'tentang lingkungan': 42,\n",
              " 'pusat perbelanjaan': 43,\n",
              " 'bekerja': 44,\n",
              " 'Peluncuran': 45,\n",
              " 'tentang perkembangan teknologi terkini': 46,\n",
              " 'LMN': 47,\n",
              " 'lisa': 48,\n",
              " 'membutuhkan': 49,\n",
              " 'perjanjian': 50,\n",
              " 'terkini': 51,\n",
              " 'tenang': 52,\n",
              " 'cabang': 53,\n",
              " 'konser': 54,\n",
              " 'berkunjung': 55,\n",
              " 'pantai': 56,\n",
              " 'akan': 57,\n",
              " 'Minggu': 58,\n",
              " 'lisa@email.com': 59,\n",
              " 'memasak makanan khas daerah': 60,\n",
              " 'eksklusif': 61,\n",
              " 'menggunakan': 62,\n",
              " 'Kerjasama': 63,\n",
              " 'konser musik rock': 64,\n",
              " 'diskon besar-besaran': 65,\n",
              " 'ruang konferensi': 66,\n",
              " 'menghadiri': 67,\n",
              " 'Bali': 68,\n",
              " 'tim': 69,\n",
              " 'pertanyaan': 70,\n",
              " 'pengembangan': 71,\n",
              " 'masyarakat': 72,\n",
              " 'besar': 73,\n",
              " 'depan': 74,\n",
              " 'beberapa': 75,\n",
              " 'dapatkan': 76,\n",
              " 'toko online': 77,\n",
              " 'malam': 78,\n",
              " 'tersedia': 79,\n",
              " 'proposal@xyz.com': 80,\n",
              " 'taman kota': 81,\n",
              " 'penawaran': 82,\n",
              " 'mengenai keberlanjutan lingkungan': 83,\n",
              " 'untuk mahasiswa': 84,\n",
              " 'pelatihan': 85,\n",
              " 'memberikan': 86,\n",
              " 'aula': 87,\n",
              " 'Pesta': 88,\n",
              " 'pertemuan': 89,\n",
              " 'sudah': 90,\n",
              " 'adalah': 91,\n",
              " 'stadion': 92,\n",
              " 'kreativitas': 93,\n",
              " 'berhasil': 94,\n",
              " 'telah': 95,\n",
              " 'makan malam': 96,\n",
              " 'Proyek': 97,\n",
              " 'kampus': 98,\n",
              " 'restoran mewah': 99,\n",
              " 'sangat': 100,\n",
              " 'Pertemuan': 101,\n",
              " 'berlangsung': 102,\n",
              " 'kirimkan': 103,\n",
              " 'kode promo': 104,\n",
              " 'rincian': 105,\n",
              " 'kerjasama': 106,\n",
              " 'wawasan': 107,\n",
              " 'proyek': 108,\n",
              " 'bulan': 109,\n",
              " 'john@email.com': 110,\n",
              " 'Pemandangan': 111,\n",
              " 'rapat': 112,\n",
              " 'diselenggarakan': 113,\n",
              " 'pada': 114,\n",
              " 'Seminar': 115,\n",
              " 'antara': 116,\n",
              " 'Presentasi': 117,\n",
              " 'pusat kota': 118,\n",
              " 'pemimpin industri': 119,\n",
              " 'tak terlupakan': 120,\n",
              " 'diri Anda': 121,\n",
              " 'universitas': 122,\n",
              " 'memeriahkan': 123,\n",
              " 'Email': 124,\n",
              " 'wisata': 125,\n",
              " 'berkemah': 126,\n",
              " 'pengembangan aplikasi mobile': 127,\n",
              " 'dilakukan': 128,\n",
              " 'gedung seni': 129,\n",
              " 'berbagai': 130,\n",
              " 'riset': 131,\n",
              " 'Rencanakan': 132,\n",
              " 'lembur': 133,\n",
              " 'dimulai': 134,\n",
              " 'ahli kreatif': 135,\n",
              " 'pengunjung': 136,\n",
              " 'Film': 137,\n",
              " 'A': 138,\n",
              " 'peluncuran produk terbaru': 139,\n",
              " 'teater klasik': 140,\n",
              " 'seni instalasi': 141,\n",
              " 'Rapat': 142,\n",
              " 'perjalanan': 143,\n",
              " 'MNO': 144,\n",
              " 'untuk': 145,\n",
              " 'perusahaan ABC': 146,\n",
              " 'jika': 147,\n",
              " 'lezat': 148,\n",
              " 'malam ini': 149,\n",
              " 'membawa': 150,\n",
              " 'mengunjungi': 151,\n",
              " 'Permintaan': 152,\n",
              " 'sukses': 153,\n",
              " 'gunung': 154,\n",
              " 'Diskusi': 155,\n",
              " 'mendalam': 156,\n",
              " 'galeri seni': 157,\n",
              " 'segera': 158,\n",
              " 'ABB': 159,\n",
              " 'terbaik': 160,\n",
              " 'desain grafis': 161,\n",
              " 'keamanan cyber': 162,\n",
              " 'galeri terkenal': 163,\n",
              " 'terbaru': 164,\n",
              " 'bulan depan': 165,\n",
              " 'teknologi terkini': 166,\n",
              " 'hari': 167,\n",
              " 'XYZ': 168,\n",
              " 'kota': 169,\n",
              " 'alamat': 170,\n",
              " 'lapangan terbuka': 171,\n",
              " 'teknologi masa depan': 172,\n",
              " 'OPQ': 173,\n",
              " 'umum': 174,\n",
              " 'Pameran': 175,\n",
              " 'mengenai literasi digital': 176,\n",
              " 'besok': 177,\n",
              " 'Anda': 178,\n",
              " 'acara': 179,\n",
              " 'Perjalanan': 180,\n",
              " 'situs web baru': 181,\n",
              " 'baru': 182,\n",
              " 'inovatif': 183,\n",
              " 'kepada': 184,\n",
              " 'direncanakan': 185,\n",
              " 'kuliner': 186,\n",
              " 'saya': 187,\n",
              " 'tepi': 188,\n",
              " 'Produk': 189,\n",
              " 'Tokyo': 190,\n",
              " 'membahas': 191,\n",
              " 'seni fotografi': 192,\n",
              " 'UVW': 193,\n",
              " 'Konser': 194,\n",
              " 'acara musik': 195,\n",
              " 'fiksi ilmiah': 196,\n",
              " 'JKL': 197,\n",
              " 'marketing@contohbisnis.com': 198,\n",
              " 'tahun ini': 199,\n",
              " 'seni kontemporer': 200,\n",
              " 'peserta': 201,\n",
              " 'Pelatihan': 202,\n",
              " 'pusat inovasi': 203,\n",
              " 'Konferensi': 204,\n",
              " 'panduan': 205,\n",
              " 'Kelas': 206,\n",
              " 'secepatnya': 207,\n",
              " 'sepak bola': 208,\n",
              " 'produk terbaru': 209,\n",
              " 'menghibur': 210,\n",
              " 'stadion besar': 211,\n",
              " 'musik rock': 212,\n",
              " 'ABC': 213,\n",
              " 'konferensi': 214,\n",
              " 'libur akhir pekan': 215,\n",
              " 'galeri': 216,\n",
              " 'indah': 217,\n",
              " 'digelar': 218,\n",
              " 'BP': 219,\n",
              " 'musim panas': 220,\n",
              " 'kenangan': 221,\n",
              " '.': 222,\n",
              " 'berencana': 223,\n",
              " 'minggu': 224,\n",
              " 'Jakarta': 225,\n",
              " 'kontrak': 226,\n",
              " 'B': 227,\n",
              " 'dari': 228,\n",
              " 'merencanakan': 229,\n",
              " 'support@contoh.com': 230,\n",
              " 'nasional': 231,\n",
              " 'menginspirasi': 232,\n",
              " 'manajemen': 233,\n",
              " 'Paris': 234,\n",
              " 'Yogyakarta': 235,\n",
              " 'hari ini': 236,\n",
              " 'direalisasikan': 237,\n",
              " 'ruang': 238,\n",
              " 'terkait': 239,\n",
              " 'bisnis internasional': 240,\n",
              " 'Singapura': 241,\n",
              " 'dan': 242,\n",
              " 'seni rupa': 243,\n",
              " 'inovasi': 244,\n",
              " 'mengajarkan': 245,\n",
              " 'tari tradisional': 246,\n",
              " 'museum': 247,\n",
              " 'hati': 248,\n",
              " 'seni musik': 249,\n",
              " 'Pentas': 250,\n",
              " 'kewirausahaan': 251,\n",
              " 'proposal': 252,\n",
              " 'jazz akustik': 253,\n",
              " 'seni modern': 254,\n",
              " 'dilaksanakan': 255,\n",
              " 'Saat': 256,\n",
              " 'bersama': 257,\n",
              " 'email': 258,\n",
              " 'finance@abc.com': 259,\n",
              " 'laporan keuangan': 260,\n",
              " 'membuka': 261,\n",
              " 'memukau': 262,\n",
              " 'pergi': 263,\n",
              " 'seni instalasi kontemporer': 264,\n",
              " 'singkat': 265,\n",
              " 'restoran': 266,\n",
              " 'Jangan': 267,\n",
              " 'perusahaan': 268,\n",
              " 'pelanggan setia': 269,\n",
              " 'Liburan': 270,\n",
              " 'rincian kontrak': 271,\n",
              " 'Saya': 272,\n",
              " 'daftarkan': 273,\n",
              " 'banyak': 274,\n",
              " 'luar biasa': 275,\n",
              " 'membuat': 276,\n",
              " 'tentang': 277,\n",
              " 'Kunjungan': 278,\n",
              " 'malam di': 279,\n",
              " 'di': 280,\n",
              " 'produk': 281,\n",
              " 'Sabtu': 282,\n",
              " 'mendaki': 283,\n",
              " 'dengan': 284,\n",
              " 'puncak': 285,\n",
              " 'liburan': 286,\n",
              " 'pengalaman': 287,\n",
              " 'ulang tahun': 288,\n",
              " 'kami': 289,\n",
              " 'ilmiah': 290,\n",
              " 'bisnis': 291,\n",
              " 'user@example.com': 292,\n",
              " 'terkemuka': 293,\n",
              " 'konser musik': 294,\n",
              " 'lampiran': 295,\n",
              " 'DEF': 296,\n",
              " 'Pertunjukan': 297,\n",
              " 'dihelat': 298,\n",
              " 'Rencananya': 299,\n",
              " 'pusat seni': 300,\n",
              " 'minggu depan': 301,\n",
              " 'teknologi terbaru': 302,\n",
              " 'spesial': 303,\n",
              " 'toko buku': 304,\n",
              " 'desa': 305,\n",
              " 'dijadwalkan': 306,\n",
              " 'ahli industri': 307,\n",
              " 'Pertandingan': 308,\n",
              " 'strategis perusahaan': 309,\n",
              " 'dihadiri': 310,\n",
              " 'setiap': 311,\n",
              " 'para': 312,\n",
              " 'aula kampus': 313,\n",
              " 'ada': 314,\n",
              " 'pusat': 315,\n",
              " 'diadakan': 316,\n",
              " 'teater komedi': 317,\n",
              " 'spesial akhir tahun': 318,\n",
              " 'Tolong': 319,\n",
              " 'mengguncang': 320,\n",
              " 'dalam': 321,\n",
              " 'KEMERDEKAAN': 322,\n",
              " 'Segera': 323,\n",
              " 'kesan': 324,\n",
              " 'dokumen': 325,\n",
              " 'Workshop': 326,\n",
              " 'PQR': 327,\n",
              " 'strategis': 328,\n",
              " 'ENDPAD': 329}"
            ]
          },
          "metadata": {},
          "execution_count": 16
        }
      ]
    },
    {
      "cell_type": "code",
      "source": [
        "tag2idx"
      ],
      "metadata": {
        "colab": {
          "base_uri": "https://localhost:8080/"
        },
        "id": "_OS3UmAqXWly",
        "outputId": "b991719c-e55e-4587-e1d7-a14e20d6f40b"
      },
      "execution_count": null,
      "outputs": [
        {
          "output_type": "execute_result",
          "data": {
            "text/plain": [
              "{'O': 0, 'LOKASI': 1, 'PERUSAHAAN': 2, 'TAG_EMAIL': 3, 'EMAIL': 4, 'WAKTU': 5}"
            ]
          },
          "metadata": {},
          "execution_count": 17
        }
      ]
    },
    {
      "cell_type": "code",
      "source": [
        "plt.hist([len(s) for s in sentances], bins=50)\n",
        "plt.show()"
      ],
      "metadata": {
        "colab": {
          "base_uri": "https://localhost:8080/",
          "height": 430
        },
        "id": "OQ4mVVS5XHFj",
        "outputId": "82aa313d-abda-492a-cd0b-158ef970d790"
      },
      "execution_count": null,
      "outputs": [
        {
          "output_type": "display_data",
          "data": {
            "text/plain": [
              "<Figure size 640x480 with 1 Axes>"
            ],
            "image/png": "[encoded data removed]"
          },
          "metadata": {}
        }
      ]
    },
    {
      "cell_type": "code",
      "source": [
        "from tensorflow.keras.preprocessing.sequence import pad_sequences\n",
        "from tensorflow.keras.utils import to_categorical\n",
        "\n",
        "max_len = 50\n",
        "\n",
        "X = [[word2idx[w[0]] for w in s]for s in sentances]\n",
        "X = pad_sequences(maxlen = max_len , sequences =X, padding='post', value =num_words-1)\n",
        "\n",
        "y = [[tag2idx[w[2]] for w in s]for s in sentances]\n",
        "y = pad_sequences(maxlen = max_len , sequences =y, padding='post', value =tag2idx[\"O\"])\n",
        "y = [to_categorical(i, num_classes=num_tags) for i in y]"
      ],
      "metadata": {
        "id": "BOZ7PXpVXMHN"
      },
      "execution_count": null,
      "outputs": []
    },
    {
      "cell_type": "markdown",
      "source": [
        "mempersiapkan data input dan output untuk proses training model dengan melakukan tokenisasi, padding, dan one-hot encoding.\n",
        "\n",
        "\n",
        "\n",
        "\n",
        "\n"
      ],
      "metadata": {
        "id": "NHF-JyOByHPi"
      }
    },
    {
      "cell_type": "markdown",
      "source": [
        "### Model"
      ],
      "metadata": {
        "id": "jtSGqPZyyPuv"
      }
    },
    {
      "cell_type": "code",
      "source": [
        "from sklearn.model_selection import train_test_split\n",
        "x_train,x_test,y_train,y_test = train_test_split(X,y, test_size=0.1, random_state=1)"
      ],
      "metadata": {
        "id": "jwD9vLUcY-XF"
      },
      "execution_count": null,
      "outputs": []
    },
    {
      "cell_type": "code",
      "source": [
        "from tensorflow.keras import Model, Input\n",
        "from tensorflow.keras.layers import LSTM, Embedding, Dense\n",
        "from tensorflow.keras.layers import TimeDistributed, SpatialDropout1D, Bidirectional"
      ],
      "metadata": {
        "id": "qjxvqm4nZzl8"
      },
      "execution_count": null,
      "outputs": []
    },
    {
      "cell_type": "code",
      "source": [
        "input_word = Input(shape = (max_len,))\n",
        "model = Embedding(input_dim=num_words,output_dim=max_len,input_length=max_len)(input_word)\n",
        "model = SpatialDropout1D(0.1)(model)\n",
        "model = Bidirectional(LSTM(units=100, return_sequences=True, recurrent_dropout=0.1))(model)\n",
        "out = TimeDistributed(Dense(num_tags,activation='softmax'))(model)\n",
        "model = Model(input_word,out)\n",
        "model.summary()"
      ],
      "metadata": {
        "colab": {
          "base_uri": "https://localhost:8080/"
        },
        "id": "8eBfWQqiZ2bR",
        "outputId": "c6b7b42f-cbfc-4cb2-ec7c-87425e293b58"
      },
      "execution_count": null,
      "outputs": [
        {
          "output_type": "stream",
          "name": "stderr",
          "text": [
            "WARNING:tensorflow:Layer lstm will not use cuDNN kernels since it doesn't meet the criteria. It will use a generic GPU kernel as fallback when running on GPU.\n",
            "WARNING:tensorflow:Layer lstm will not use cuDNN kernels since it doesn't meet the criteria. It will use a generic GPU kernel as fallback when running on GPU.\n",
            "WARNING:tensorflow:Layer lstm will not use cuDNN kernels since it doesn't meet the criteria. It will use a generic GPU kernel as fallback when running on GPU.\n"
          ]
        },
        {
          "output_type": "stream",
          "name": "stdout",
          "text": [
            "Model: \"model\"\n",
            "_________________________________________________________________\n",
            " Layer (type)                Output Shape              Param #   \n",
            "=================================================================\n",
            " input_1 (InputLayer)        [(None, 50)]              0         \n",
            "                                                                 \n",
            " embedding (Embedding)       (None, 50, 50)            16450     \n",
            "                                                                 \n",
            " spatial_dropout1d (Spatial  (None, 50, 50)            0         \n",
            " Dropout1D)                                                      \n",
            "                                                                 \n",
            " bidirectional (Bidirection  (None, 50, 200)           120800    \n",
            " al)                                                             \n",
            "                                                                 \n",
            " time_distributed (TimeDist  (None, 50, 6)             1206      \n",
            " ributed)                                                        \n",
            "                                                                 \n",
            "=================================================================\n",
            "Total params: 138456 (540.84 KB)\n",
            "Trainable params: 138456 (540.84 KB)\n",
            "Non-trainable params: 0 (0.00 Byte)\n",
            "_________________________________________________________________\n"
          ]
        }
      ]
    },
    {
      "cell_type": "markdown",
      "source": [
        "mendefinisikan arsitektur model deep learning untuk tugas Named Entity Recognition (NER) menggunakan Keras."
      ],
      "metadata": {
        "id": "RxPLX5hhyXuC"
      }
    },
    {
      "cell_type": "code",
      "source": [
        "model.compile(optimizer=\"adam\",loss='categorical_crossentropy',metrics=['accuracy'])"
      ],
      "metadata": {
        "id": "6ckFh0z9Z5Kc"
      },
      "execution_count": null,
      "outputs": []
    },
    {
      "cell_type": "code",
      "source": [
        "!pip install livelossplot"
      ],
      "metadata": {
        "colab": {
          "base_uri": "https://localhost:8080/"
        },
        "id": "WtUiZzHKZ66t",
        "outputId": "05e635a1-7a3b-4da2-cb0b-a63ddb03dbc8"
      },
      "execution_count": null,
      "outputs": [
        {
          "output_type": "stream",
          "name": "stdout",
          "text": [
            "Collecting livelossplot\n",
            "  Downloading livelossplot-0.5.5-py3-none-any.whl (22 kB)\n",
            "Requirement already satisfied: matplotlib in /usr/local/lib/python3.10/dist-packages (from livelossplot) (3.7.1)\n",
            "Requirement already satisfied: bokeh in /usr/local/lib/python3.10/dist-packages (from livelossplot) (3.3.4)\n",
            "Requirement already satisfied: Jinja2>=2.9 in /usr/local/lib/python3.10/dist-packages (from bokeh->livelossplot) (3.1.3)\n",
            "Requirement already satisfied: contourpy>=1 in /usr/local/lib/python3.10/dist-packages (from bokeh->livelossplot) (1.2.0)\n",
            "Requirement already satisfied: numpy>=1.16 in /usr/local/lib/python3.10/dist-packages (from bokeh->livelossplot) (1.23.5)\n",
            "Requirement already satisfied: packaging>=16.8 in /usr/local/lib/python3.10/dist-packages (from bokeh->livelossplot) (23.2)\n",
            "Requirement already satisfied: pandas>=1.2 in /usr/local/lib/python3.10/dist-packages (from bokeh->livelossplot) (1.5.3)\n",
            "Requirement already satisfied: pillow>=7.1.0 in /usr/local/lib/python3.10/dist-packages (from bokeh->livelossplot) (9.4.0)\n",
            "Requirement already satisfied: PyYAML>=3.10 in /usr/local/lib/python3.10/dist-packages (from bokeh->livelossplot) (6.0.1)\n",
            "Requirement already satisfied: tornado>=5.1 in /usr/local/lib/python3.10/dist-packages (from bokeh->livelossplot) (6.3.2)\n",
            "Requirement already satisfied: xyzservices>=2021.09.1 in /usr/local/lib/python3.10/dist-packages (from bokeh->livelossplot) (2023.10.1)\n",
            "Requirement already satisfied: cycler>=0.10 in /usr/local/lib/python3.10/dist-packages (from matplotlib->livelossplot) (0.12.1)\n",
            "Requirement already satisfied: fonttools>=4.22.0 in /usr/local/lib/python3.10/dist-packages (from matplotlib->livelossplot) (4.47.2)\n",
            "Requirement already satisfied: kiwisolver>=1.0.1 in /usr/local/lib/python3.10/dist-packages (from matplotlib->livelossplot) (1.4.5)\n",
            "Requirement already satisfied: pyparsing>=2.3.1 in /usr/local/lib/python3.10/dist-packages (from matplotlib->livelossplot) (3.1.1)\n",
            "Requirement already satisfied: python-dateutil>=2.7 in /usr/local/lib/python3.10/dist-packages (from matplotlib->livelossplot) (2.8.2)\n",
            "Requirement already satisfied: MarkupSafe>=2.0 in /usr/local/lib/python3.10/dist-packages (from Jinja2>=2.9->bokeh->livelossplot) (2.1.4)\n",
            "Requirement already satisfied: pytz>=2020.1 in /usr/local/lib/python3.10/dist-packages (from pandas>=1.2->bokeh->livelossplot) (2023.4)\n",
            "Requirement already satisfied: six>=1.5 in /usr/local/lib/python3.10/dist-packages (from python-dateutil>=2.7->matplotlib->livelossplot) (1.16.0)\n",
            "Installing collected packages: livelossplot\n",
            "Successfully installed livelossplot-0.5.5\n"
          ]
        }
      ]
    },
    {
      "cell_type": "code",
      "source": [
        "from tensorflow.keras.callbacks import ModelCheckpoint, EarlyStopping\n",
        "from livelossplot.tf_keras import PlotLossesCallback"
      ],
      "metadata": {
        "id": "-GSh-pbMZ9CF"
      },
      "execution_count": null,
      "outputs": []
    },
    {
      "cell_type": "markdown",
      "source": [
        "#### Training"
      ],
      "metadata": {
        "id": "XETaqX4vyyEI"
      }
    },
    {
      "cell_type": "code",
      "source": [
        "# early_stopping = EarlyStopping(monitor='val_accuracy',patience=1,verbose=0,mode='max',restore_best_weights=False)\n",
        "# callbacks = [PlotLossesCallback(),early_stopping]\n",
        "\n",
        "history = model.fit(\n",
        "    x_train,np.array(y_train),\n",
        "    validation_split = 0.2,\n",
        "    batch_size = 64,\n",
        "    epochs = 200,\n",
        "    verbose = 1,\n",
        "    # callbacks=callbacks\n",
        ")"
      ],
      "metadata": {
        "colab": {
          "base_uri": "https://localhost:8080/"
        },
        "id": "a0cvKRXKZ-3X",
        "outputId": "ff69496d-c7a6-4d96-f4e4-b5beccea1436"
      },
      "execution_count": null,
      "outputs": [
        {
          "output_type": "stream",
          "name": "stdout",
          "text": [
            "Epoch 1/200\n",
            "1/1 [==============================] - 15s 15s/step - loss: 1.8004 - accuracy: 0.0194 - val_loss: 1.7498 - val_accuracy: 0.9353\n",
            "Epoch 2/200\n",
            "1/1 [==============================] - 1s 632ms/step - loss: 1.7496 - accuracy: 0.9416 - val_loss: 1.6977 - val_accuracy: 0.9624\n",
            "Epoch 3/200\n",
            "1/1 [==============================] - 0s 383ms/step - loss: 1.6986 - accuracy: 0.9597 - val_loss: 1.6415 - val_accuracy: 0.9624\n",
            "Epoch 4/200\n",
            "1/1 [==============================] - 0s 392ms/step - loss: 1.6416 - accuracy: 0.9597 - val_loss: 1.5778 - val_accuracy: 0.9624\n",
            "Epoch 5/200\n",
            "1/1 [==============================] - 1s 735ms/step - loss: 1.5784 - accuracy: 0.9597 - val_loss: 1.5029 - val_accuracy: 0.9624\n",
            "Epoch 6/200\n",
            "1/1 [==============================] - 0s 419ms/step - loss: 1.5042 - accuracy: 0.9597 - val_loss: 1.4116 - val_accuracy: 0.9624\n",
            "Epoch 7/200\n",
            "1/1 [==============================] - 1s 508ms/step - loss: 1.4118 - accuracy: 0.9597 - val_loss: 1.2964 - val_accuracy: 0.9624\n",
            "Epoch 8/200\n",
            "1/1 [==============================] - 0s 463ms/step - loss: 1.2921 - accuracy: 0.9597 - val_loss: 1.1456 - val_accuracy: 0.9624\n",
            "Epoch 9/200\n",
            "1/1 [==============================] - 1s 743ms/step - loss: 1.1453 - accuracy: 0.9597 - val_loss: 0.9425 - val_accuracy: 0.9624\n",
            "Epoch 10/200\n",
            "1/1 [==============================] - 1s 795ms/step - loss: 0.9460 - accuracy: 0.9597 - val_loss: 0.6763 - val_accuracy: 0.9624\n",
            "Epoch 11/200\n",
            "1/1 [==============================] - 1s 806ms/step - loss: 0.6877 - accuracy: 0.9597 - val_loss: 0.3967 - val_accuracy: 0.9624\n",
            "Epoch 12/200\n",
            "1/1 [==============================] - 0s 346ms/step - loss: 0.4119 - accuracy: 0.9597 - val_loss: 0.2364 - val_accuracy: 0.9624\n",
            "Epoch 13/200\n",
            "1/1 [==============================] - 0s 252ms/step - loss: 0.2455 - accuracy: 0.9597 - val_loss: 0.2015 - val_accuracy: 0.9624\n",
            "Epoch 14/200\n",
            "1/1 [==============================] - 0s 246ms/step - loss: 0.2110 - accuracy: 0.9597 - val_loss: 0.2038 - val_accuracy: 0.9624\n",
            "Epoch 15/200\n",
            "1/1 [==============================] - 0s 229ms/step - loss: 0.2142 - accuracy: 0.9597 - val_loss: 0.2095 - val_accuracy: 0.9624\n",
            "Epoch 16/200\n",
            "1/1 [==============================] - 0s 245ms/step - loss: 0.2215 - accuracy: 0.9597 - val_loss: 0.2132 - val_accuracy: 0.9624\n",
            "Epoch 17/200\n",
            "1/1 [==============================] - 0s 245ms/step - loss: 0.2258 - accuracy: 0.9597 - val_loss: 0.2144 - val_accuracy: 0.9624\n",
            "Epoch 18/200\n",
            "1/1 [==============================] - 0s 237ms/step - loss: 0.2282 - accuracy: 0.9597 - val_loss: 0.2134 - val_accuracy: 0.9624\n",
            "Epoch 19/200\n",
            "1/1 [==============================] - 0s 259ms/step - loss: 0.2274 - accuracy: 0.9597 - val_loss: 0.2107 - val_accuracy: 0.9624\n",
            "Epoch 20/200\n",
            "1/1 [==============================] - 0s 211ms/step - loss: 0.2258 - accuracy: 0.9597 - val_loss: 0.2067 - val_accuracy: 0.9624\n",
            "Epoch 21/200\n",
            "1/1 [==============================] - 0s 213ms/step - loss: 0.2219 - accuracy: 0.9597 - val_loss: 0.2016 - val_accuracy: 0.9624\n",
            "Epoch 22/200\n",
            "1/1 [==============================] - 0s 230ms/step - loss: 0.2172 - accuracy: 0.9597 - val_loss: 0.1959 - val_accuracy: 0.9624\n",
            "Epoch 23/200\n",
            "1/1 [==============================] - 0s 224ms/step - loss: 0.2115 - accuracy: 0.9597 - val_loss: 0.1899 - val_accuracy: 0.9624\n",
            "Epoch 24/200\n",
            "1/1 [==============================] - 0s 215ms/step - loss: 0.2054 - accuracy: 0.9597 - val_loss: 0.1839 - val_accuracy: 0.9624\n",
            "Epoch 25/200\n",
            "1/1 [==============================] - 0s 206ms/step - loss: 0.1995 - accuracy: 0.9597 - val_loss: 0.1780 - val_accuracy: 0.9624\n",
            "Epoch 26/200\n",
            "1/1 [==============================] - 0s 206ms/step - loss: 0.1936 - accuracy: 0.9597 - val_loss: 0.1725 - val_accuracy: 0.9624\n",
            "Epoch 27/200\n",
            "1/1 [==============================] - 0s 240ms/step - loss: 0.1873 - accuracy: 0.9597 - val_loss: 0.1675 - val_accuracy: 0.9624\n",
            "Epoch 28/200\n",
            "1/1 [==============================] - 0s 221ms/step - loss: 0.1818 - accuracy: 0.9597 - val_loss: 0.1631 - val_accuracy: 0.9624\n",
            "Epoch 29/200\n",
            "1/1 [==============================] - 0s 213ms/step - loss: 0.1762 - accuracy: 0.9597 - val_loss: 0.1593 - val_accuracy: 0.9624\n",
            "Epoch 30/200\n",
            "1/1 [==============================] - 0s 208ms/step - loss: 0.1722 - accuracy: 0.9597 - val_loss: 0.1562 - val_accuracy: 0.9624\n",
            "Epoch 31/200\n",
            "1/1 [==============================] - 0s 235ms/step - loss: 0.1681 - accuracy: 0.9597 - val_loss: 0.1540 - val_accuracy: 0.9624\n",
            "Epoch 32/200\n",
            "1/1 [==============================] - 0s 239ms/step - loss: 0.1650 - accuracy: 0.9597 - val_loss: 0.1525 - val_accuracy: 0.9624\n",
            "Epoch 33/200\n",
            "1/1 [==============================] - 0s 201ms/step - loss: 0.1628 - accuracy: 0.9597 - val_loss: 0.1518 - val_accuracy: 0.9624\n",
            "Epoch 34/200\n",
            "1/1 [==============================] - 0s 216ms/step - loss: 0.1609 - accuracy: 0.9597 - val_loss: 0.1516 - val_accuracy: 0.9624\n",
            "Epoch 35/200\n",
            "1/1 [==============================] - 0s 210ms/step - loss: 0.1604 - accuracy: 0.9597 - val_loss: 0.1519 - val_accuracy: 0.9624\n",
            "Epoch 36/200\n",
            "1/1 [==============================] - 0s 243ms/step - loss: 0.1596 - accuracy: 0.9597 - val_loss: 0.1523 - val_accuracy: 0.9624\n",
            "Epoch 37/200\n",
            "1/1 [==============================] - 0s 227ms/step - loss: 0.1599 - accuracy: 0.9597 - val_loss: 0.1528 - val_accuracy: 0.9624\n",
            "Epoch 38/200\n",
            "1/1 [==============================] - 0s 208ms/step - loss: 0.1599 - accuracy: 0.9597 - val_loss: 0.1531 - val_accuracy: 0.9624\n",
            "Epoch 39/200\n",
            "1/1 [==============================] - 0s 216ms/step - loss: 0.1600 - accuracy: 0.9597 - val_loss: 0.1532 - val_accuracy: 0.9624\n",
            "Epoch 40/200\n",
            "1/1 [==============================] - 0s 206ms/step - loss: 0.1591 - accuracy: 0.9597 - val_loss: 0.1530 - val_accuracy: 0.9624\n",
            "Epoch 41/200\n",
            "1/1 [==============================] - 0s 208ms/step - loss: 0.1595 - accuracy: 0.9597 - val_loss: 0.1524 - val_accuracy: 0.9624\n",
            "Epoch 42/200\n",
            "1/1 [==============================] - 0s 242ms/step - loss: 0.1585 - accuracy: 0.9597 - val_loss: 0.1517 - val_accuracy: 0.9624\n",
            "Epoch 43/200\n",
            "1/1 [==============================] - 0s 203ms/step - loss: 0.1574 - accuracy: 0.9597 - val_loss: 0.1508 - val_accuracy: 0.9624\n",
            "Epoch 44/200\n",
            "1/1 [==============================] - 0s 206ms/step - loss: 0.1566 - accuracy: 0.9597 - val_loss: 0.1498 - val_accuracy: 0.9624\n",
            "Epoch 45/200\n",
            "1/1 [==============================] - 0s 239ms/step - loss: 0.1554 - accuracy: 0.9597 - val_loss: 0.1487 - val_accuracy: 0.9624\n",
            "Epoch 46/200\n",
            "1/1 [==============================] - 0s 212ms/step - loss: 0.1544 - accuracy: 0.9597 - val_loss: 0.1477 - val_accuracy: 0.9624\n",
            "Epoch 47/200\n",
            "1/1 [==============================] - 0s 209ms/step - loss: 0.1534 - accuracy: 0.9597 - val_loss: 0.1468 - val_accuracy: 0.9624\n",
            "Epoch 48/200\n",
            "1/1 [==============================] - 0s 222ms/step - loss: 0.1523 - accuracy: 0.9597 - val_loss: 0.1460 - val_accuracy: 0.9624\n",
            "Epoch 49/200\n",
            "1/1 [==============================] - 0s 237ms/step - loss: 0.1516 - accuracy: 0.9597 - val_loss: 0.1453 - val_accuracy: 0.9624\n",
            "Epoch 50/200\n",
            "1/1 [==============================] - 0s 243ms/step - loss: 0.1513 - accuracy: 0.9597 - val_loss: 0.1447 - val_accuracy: 0.9624\n",
            "Epoch 51/200\n",
            "1/1 [==============================] - 0s 225ms/step - loss: 0.1505 - accuracy: 0.9597 - val_loss: 0.1443 - val_accuracy: 0.9624\n",
            "Epoch 52/200\n",
            "1/1 [==============================] - 0s 238ms/step - loss: 0.1502 - accuracy: 0.9597 - val_loss: 0.1439 - val_accuracy: 0.9624\n",
            "Epoch 53/200\n",
            "1/1 [==============================] - 0s 207ms/step - loss: 0.1500 - accuracy: 0.9597 - val_loss: 0.1436 - val_accuracy: 0.9624\n",
            "Epoch 54/200\n",
            "1/1 [==============================] - 0s 318ms/step - loss: 0.1498 - accuracy: 0.9597 - val_loss: 0.1434 - val_accuracy: 0.9624\n",
            "Epoch 55/200\n",
            "1/1 [==============================] - 0s 354ms/step - loss: 0.1495 - accuracy: 0.9597 - val_loss: 0.1432 - val_accuracy: 0.9624\n",
            "Epoch 56/200\n",
            "1/1 [==============================] - 0s 323ms/step - loss: 0.1493 - accuracy: 0.9597 - val_loss: 0.1431 - val_accuracy: 0.9624\n",
            "Epoch 57/200\n",
            "1/1 [==============================] - 0s 325ms/step - loss: 0.1491 - accuracy: 0.9597 - val_loss: 0.1429 - val_accuracy: 0.9624\n",
            "Epoch 58/200\n",
            "1/1 [==============================] - 0s 340ms/step - loss: 0.1489 - accuracy: 0.9597 - val_loss: 0.1428 - val_accuracy: 0.9624\n",
            "Epoch 59/200\n",
            "1/1 [==============================] - 0s 379ms/step - loss: 0.1487 - accuracy: 0.9597 - val_loss: 0.1426 - val_accuracy: 0.9624\n",
            "Epoch 60/200\n",
            "1/1 [==============================] - 0s 215ms/step - loss: 0.1485 - accuracy: 0.9597 - val_loss: 0.1424 - val_accuracy: 0.9624\n",
            "Epoch 61/200\n",
            "1/1 [==============================] - 0s 226ms/step - loss: 0.1480 - accuracy: 0.9597 - val_loss: 0.1423 - val_accuracy: 0.9624\n",
            "Epoch 62/200\n",
            "1/1 [==============================] - 0s 245ms/step - loss: 0.1479 - accuracy: 0.9597 - val_loss: 0.1421 - val_accuracy: 0.9624\n",
            "Epoch 63/200\n",
            "1/1 [==============================] - 0s 208ms/step - loss: 0.1476 - accuracy: 0.9597 - val_loss: 0.1419 - val_accuracy: 0.9624\n",
            "Epoch 64/200\n",
            "1/1 [==============================] - 0s 211ms/step - loss: 0.1473 - accuracy: 0.9597 - val_loss: 0.1417 - val_accuracy: 0.9624\n",
            "Epoch 65/200\n",
            "1/1 [==============================] - 0s 209ms/step - loss: 0.1472 - accuracy: 0.9597 - val_loss: 0.1416 - val_accuracy: 0.9624\n",
            "Epoch 66/200\n",
            "1/1 [==============================] - 0s 224ms/step - loss: 0.1465 - accuracy: 0.9597 - val_loss: 0.1414 - val_accuracy: 0.9624\n",
            "Epoch 67/200\n",
            "1/1 [==============================] - 0s 237ms/step - loss: 0.1463 - accuracy: 0.9597 - val_loss: 0.1412 - val_accuracy: 0.9624\n",
            "Epoch 68/200\n",
            "1/1 [==============================] - 0s 237ms/step - loss: 0.1463 - accuracy: 0.9597 - val_loss: 0.1411 - val_accuracy: 0.9624\n",
            "Epoch 69/200\n",
            "1/1 [==============================] - 0s 201ms/step - loss: 0.1459 - accuracy: 0.9597 - val_loss: 0.1409 - val_accuracy: 0.9624\n",
            "Epoch 70/200\n",
            "1/1 [==============================] - 0s 237ms/step - loss: 0.1455 - accuracy: 0.9597 - val_loss: 0.1408 - val_accuracy: 0.9624\n",
            "Epoch 71/200\n",
            "1/1 [==============================] - 0s 209ms/step - loss: 0.1454 - accuracy: 0.9597 - val_loss: 0.1406 - val_accuracy: 0.9624\n",
            "Epoch 72/200\n",
            "1/1 [==============================] - 0s 205ms/step - loss: 0.1449 - accuracy: 0.9597 - val_loss: 0.1404 - val_accuracy: 0.9624\n",
            "Epoch 73/200\n",
            "1/1 [==============================] - 0s 236ms/step - loss: 0.1445 - accuracy: 0.9597 - val_loss: 0.1403 - val_accuracy: 0.9624\n",
            "Epoch 74/200\n",
            "1/1 [==============================] - 0s 242ms/step - loss: 0.1444 - accuracy: 0.9597 - val_loss: 0.1401 - val_accuracy: 0.9624\n",
            "Epoch 75/200\n",
            "1/1 [==============================] - 0s 256ms/step - loss: 0.1442 - accuracy: 0.9597 - val_loss: 0.1399 - val_accuracy: 0.9624\n",
            "Epoch 76/200\n",
            "1/1 [==============================] - 0s 238ms/step - loss: 0.1440 - accuracy: 0.9597 - val_loss: 0.1397 - val_accuracy: 0.9624\n",
            "Epoch 77/200\n",
            "1/1 [==============================] - 0s 240ms/step - loss: 0.1436 - accuracy: 0.9597 - val_loss: 0.1394 - val_accuracy: 0.9624\n",
            "Epoch 78/200\n",
            "1/1 [==============================] - 0s 208ms/step - loss: 0.1432 - accuracy: 0.9597 - val_loss: 0.1392 - val_accuracy: 0.9624\n",
            "Epoch 79/200\n",
            "1/1 [==============================] - 0s 260ms/step - loss: 0.1428 - accuracy: 0.9597 - val_loss: 0.1390 - val_accuracy: 0.9624\n",
            "Epoch 80/200\n",
            "1/1 [==============================] - 0s 208ms/step - loss: 0.1424 - accuracy: 0.9597 - val_loss: 0.1387 - val_accuracy: 0.9624\n",
            "Epoch 81/200\n",
            "1/1 [==============================] - 0s 212ms/step - loss: 0.1422 - accuracy: 0.9597 - val_loss: 0.1385 - val_accuracy: 0.9624\n",
            "Epoch 82/200\n",
            "1/1 [==============================] - 0s 207ms/step - loss: 0.1419 - accuracy: 0.9597 - val_loss: 0.1382 - val_accuracy: 0.9624\n",
            "Epoch 83/200\n",
            "1/1 [==============================] - 0s 207ms/step - loss: 0.1418 - accuracy: 0.9597 - val_loss: 0.1380 - val_accuracy: 0.9624\n",
            "Epoch 84/200\n",
            "1/1 [==============================] - 0s 216ms/step - loss: 0.1414 - accuracy: 0.9597 - val_loss: 0.1377 - val_accuracy: 0.9624\n",
            "Epoch 85/200\n",
            "1/1 [==============================] - 0s 223ms/step - loss: 0.1407 - accuracy: 0.9597 - val_loss: 0.1374 - val_accuracy: 0.9624\n",
            "Epoch 86/200\n",
            "1/1 [==============================] - 0s 221ms/step - loss: 0.1405 - accuracy: 0.9597 - val_loss: 0.1371 - val_accuracy: 0.9624\n",
            "Epoch 87/200\n",
            "1/1 [==============================] - 0s 224ms/step - loss: 0.1401 - accuracy: 0.9597 - val_loss: 0.1368 - val_accuracy: 0.9624\n",
            "Epoch 88/200\n",
            "1/1 [==============================] - 0s 250ms/step - loss: 0.1396 - accuracy: 0.9597 - val_loss: 0.1365 - val_accuracy: 0.9624\n",
            "Epoch 89/200\n",
            "1/1 [==============================] - 0s 239ms/step - loss: 0.1395 - accuracy: 0.9597 - val_loss: 0.1362 - val_accuracy: 0.9624\n",
            "Epoch 90/200\n",
            "1/1 [==============================] - 0s 240ms/step - loss: 0.1390 - accuracy: 0.9597 - val_loss: 0.1359 - val_accuracy: 0.9624\n",
            "Epoch 91/200\n",
            "1/1 [==============================] - 0s 242ms/step - loss: 0.1382 - accuracy: 0.9597 - val_loss: 0.1356 - val_accuracy: 0.9624\n",
            "Epoch 92/200\n",
            "1/1 [==============================] - 0s 223ms/step - loss: 0.1383 - accuracy: 0.9597 - val_loss: 0.1353 - val_accuracy: 0.9624\n",
            "Epoch 93/200\n",
            "1/1 [==============================] - 0s 206ms/step - loss: 0.1377 - accuracy: 0.9597 - val_loss: 0.1350 - val_accuracy: 0.9624\n",
            "Epoch 94/200\n",
            "1/1 [==============================] - 0s 220ms/step - loss: 0.1373 - accuracy: 0.9597 - val_loss: 0.1347 - val_accuracy: 0.9624\n",
            "Epoch 95/200\n",
            "1/1 [==============================] - 0s 241ms/step - loss: 0.1369 - accuracy: 0.9597 - val_loss: 0.1343 - val_accuracy: 0.9624\n",
            "Epoch 96/200\n",
            "1/1 [==============================] - 0s 213ms/step - loss: 0.1364 - accuracy: 0.9597 - val_loss: 0.1340 - val_accuracy: 0.9624\n",
            "Epoch 97/200\n",
            "1/1 [==============================] - 0s 269ms/step - loss: 0.1362 - accuracy: 0.9597 - val_loss: 0.1336 - val_accuracy: 0.9624\n",
            "Epoch 98/200\n",
            "1/1 [==============================] - 0s 254ms/step - loss: 0.1355 - accuracy: 0.9597 - val_loss: 0.1333 - val_accuracy: 0.9624\n",
            "Epoch 99/200\n",
            "1/1 [==============================] - 0s 240ms/step - loss: 0.1350 - accuracy: 0.9597 - val_loss: 0.1329 - val_accuracy: 0.9624\n",
            "Epoch 100/200\n",
            "1/1 [==============================] - 0s 213ms/step - loss: 0.1345 - accuracy: 0.9597 - val_loss: 0.1326 - val_accuracy: 0.9624\n",
            "Epoch 101/200\n",
            "1/1 [==============================] - 0s 235ms/step - loss: 0.1336 - accuracy: 0.9597 - val_loss: 0.1322 - val_accuracy: 0.9624\n",
            "Epoch 102/200\n",
            "1/1 [==============================] - 0s 245ms/step - loss: 0.1331 - accuracy: 0.9597 - val_loss: 0.1318 - val_accuracy: 0.9624\n",
            "Epoch 103/200\n",
            "1/1 [==============================] - 0s 342ms/step - loss: 0.1330 - accuracy: 0.9597 - val_loss: 0.1314 - val_accuracy: 0.9624\n",
            "Epoch 104/200\n",
            "1/1 [==============================] - 0s 354ms/step - loss: 0.1317 - accuracy: 0.9597 - val_loss: 0.1310 - val_accuracy: 0.9624\n",
            "Epoch 105/200\n",
            "1/1 [==============================] - 0s 318ms/step - loss: 0.1318 - accuracy: 0.9597 - val_loss: 0.1306 - val_accuracy: 0.9624\n",
            "Epoch 106/200\n",
            "1/1 [==============================] - 0s 354ms/step - loss: 0.1309 - accuracy: 0.9597 - val_loss: 0.1301 - val_accuracy: 0.9624\n",
            "Epoch 107/200\n",
            "1/1 [==============================] - 0s 358ms/step - loss: 0.1305 - accuracy: 0.9597 - val_loss: 0.1297 - val_accuracy: 0.9624\n",
            "Epoch 108/200\n",
            "1/1 [==============================] - 0s 267ms/step - loss: 0.1300 - accuracy: 0.9597 - val_loss: 0.1292 - val_accuracy: 0.9624\n",
            "Epoch 109/200\n",
            "1/1 [==============================] - 0s 242ms/step - loss: 0.1295 - accuracy: 0.9597 - val_loss: 0.1288 - val_accuracy: 0.9624\n",
            "Epoch 110/200\n",
            "1/1 [==============================] - 0s 212ms/step - loss: 0.1287 - accuracy: 0.9597 - val_loss: 0.1283 - val_accuracy: 0.9624\n",
            "Epoch 111/200\n",
            "1/1 [==============================] - 0s 222ms/step - loss: 0.1282 - accuracy: 0.9597 - val_loss: 0.1278 - val_accuracy: 0.9624\n",
            "Epoch 112/200\n",
            "1/1 [==============================] - 0s 240ms/step - loss: 0.1273 - accuracy: 0.9597 - val_loss: 0.1273 - val_accuracy: 0.9624\n",
            "Epoch 113/200\n",
            "1/1 [==============================] - 0s 216ms/step - loss: 0.1261 - accuracy: 0.9597 - val_loss: 0.1268 - val_accuracy: 0.9624\n",
            "Epoch 114/200\n",
            "1/1 [==============================] - 0s 219ms/step - loss: 0.1256 - accuracy: 0.9597 - val_loss: 0.1263 - val_accuracy: 0.9624\n",
            "Epoch 115/200\n",
            "1/1 [==============================] - 0s 248ms/step - loss: 0.1248 - accuracy: 0.9597 - val_loss: 0.1258 - val_accuracy: 0.9624\n",
            "Epoch 116/200\n",
            "1/1 [==============================] - 0s 221ms/step - loss: 0.1242 - accuracy: 0.9597 - val_loss: 0.1252 - val_accuracy: 0.9624\n",
            "Epoch 117/200\n",
            "1/1 [==============================] - 0s 211ms/step - loss: 0.1235 - accuracy: 0.9597 - val_loss: 0.1247 - val_accuracy: 0.9624\n",
            "Epoch 118/200\n",
            "1/1 [==============================] - 0s 205ms/step - loss: 0.1223 - accuracy: 0.9597 - val_loss: 0.1241 - val_accuracy: 0.9624\n",
            "Epoch 119/200\n",
            "1/1 [==============================] - 0s 240ms/step - loss: 0.1225 - accuracy: 0.9597 - val_loss: 0.1235 - val_accuracy: 0.9624\n",
            "Epoch 120/200\n",
            "1/1 [==============================] - 0s 222ms/step - loss: 0.1212 - accuracy: 0.9597 - val_loss: 0.1229 - val_accuracy: 0.9624\n",
            "Epoch 121/200\n",
            "1/1 [==============================] - 0s 211ms/step - loss: 0.1199 - accuracy: 0.9597 - val_loss: 0.1223 - val_accuracy: 0.9624\n",
            "Epoch 122/200\n",
            "1/1 [==============================] - 0s 221ms/step - loss: 0.1197 - accuracy: 0.9597 - val_loss: 0.1217 - val_accuracy: 0.9624\n",
            "Epoch 123/200\n",
            "1/1 [==============================] - 0s 242ms/step - loss: 0.1186 - accuracy: 0.9597 - val_loss: 0.1210 - val_accuracy: 0.9624\n",
            "Epoch 124/200\n",
            "1/1 [==============================] - 0s 246ms/step - loss: 0.1171 - accuracy: 0.9597 - val_loss: 0.1203 - val_accuracy: 0.9624\n",
            "Epoch 125/200\n",
            "1/1 [==============================] - 0s 243ms/step - loss: 0.1164 - accuracy: 0.9597 - val_loss: 0.1197 - val_accuracy: 0.9624\n",
            "Epoch 126/200\n",
            "1/1 [==============================] - 0s 250ms/step - loss: 0.1166 - accuracy: 0.9597 - val_loss: 0.1190 - val_accuracy: 0.9624\n",
            "Epoch 127/200\n",
            "1/1 [==============================] - 0s 242ms/step - loss: 0.1148 - accuracy: 0.9597 - val_loss: 0.1183 - val_accuracy: 0.9624\n",
            "Epoch 128/200\n",
            "1/1 [==============================] - 0s 226ms/step - loss: 0.1140 - accuracy: 0.9597 - val_loss: 0.1176 - val_accuracy: 0.9624\n",
            "Epoch 129/200\n",
            "1/1 [==============================] - 0s 225ms/step - loss: 0.1129 - accuracy: 0.9597 - val_loss: 0.1169 - val_accuracy: 0.9624\n",
            "Epoch 130/200\n",
            "1/1 [==============================] - 0s 232ms/step - loss: 0.1115 - accuracy: 0.9597 - val_loss: 0.1161 - val_accuracy: 0.9624\n",
            "Epoch 131/200\n",
            "1/1 [==============================] - 0s 213ms/step - loss: 0.1104 - accuracy: 0.9597 - val_loss: 0.1154 - val_accuracy: 0.9624\n",
            "Epoch 132/200\n",
            "1/1 [==============================] - 0s 247ms/step - loss: 0.1097 - accuracy: 0.9597 - val_loss: 0.1146 - val_accuracy: 0.9624\n",
            "Epoch 133/200\n",
            "1/1 [==============================] - 0s 249ms/step - loss: 0.1088 - accuracy: 0.9597 - val_loss: 0.1139 - val_accuracy: 0.9624\n",
            "Epoch 134/200\n",
            "1/1 [==============================] - 0s 242ms/step - loss: 0.1080 - accuracy: 0.9597 - val_loss: 0.1131 - val_accuracy: 0.9624\n",
            "Epoch 135/200\n",
            "1/1 [==============================] - 0s 209ms/step - loss: 0.1066 - accuracy: 0.9597 - val_loss: 0.1123 - val_accuracy: 0.9624\n",
            "Epoch 136/200\n",
            "1/1 [==============================] - 0s 222ms/step - loss: 0.1054 - accuracy: 0.9597 - val_loss: 0.1115 - val_accuracy: 0.9624\n",
            "Epoch 137/200\n",
            "1/1 [==============================] - 0s 211ms/step - loss: 0.1038 - accuracy: 0.9597 - val_loss: 0.1107 - val_accuracy: 0.9624\n",
            "Epoch 138/200\n",
            "1/1 [==============================] - 0s 251ms/step - loss: 0.1025 - accuracy: 0.9597 - val_loss: 0.1099 - val_accuracy: 0.9624\n",
            "Epoch 139/200\n",
            "1/1 [==============================] - 0s 244ms/step - loss: 0.1019 - accuracy: 0.9597 - val_loss: 0.1091 - val_accuracy: 0.9624\n",
            "Epoch 140/200\n",
            "1/1 [==============================] - 0s 212ms/step - loss: 0.1008 - accuracy: 0.9597 - val_loss: 0.1083 - val_accuracy: 0.9624\n",
            "Epoch 141/200\n",
            "1/1 [==============================] - 0s 207ms/step - loss: 0.0989 - accuracy: 0.9597 - val_loss: 0.1074 - val_accuracy: 0.9624\n",
            "Epoch 142/200\n",
            "1/1 [==============================] - 0s 217ms/step - loss: 0.0990 - accuracy: 0.9600 - val_loss: 0.1066 - val_accuracy: 0.9624\n",
            "Epoch 143/200\n",
            "1/1 [==============================] - 0s 205ms/step - loss: 0.0973 - accuracy: 0.9600 - val_loss: 0.1058 - val_accuracy: 0.9624\n",
            "Epoch 144/200\n",
            "1/1 [==============================] - 0s 205ms/step - loss: 0.0956 - accuracy: 0.9600 - val_loss: 0.1049 - val_accuracy: 0.9635\n",
            "Epoch 145/200\n",
            "1/1 [==============================] - 0s 242ms/step - loss: 0.0937 - accuracy: 0.9600 - val_loss: 0.1041 - val_accuracy: 0.9635\n",
            "Epoch 146/200\n",
            "1/1 [==============================] - 0s 208ms/step - loss: 0.0940 - accuracy: 0.9603 - val_loss: 0.1032 - val_accuracy: 0.9635\n",
            "Epoch 147/200\n",
            "1/1 [==============================] - 0s 244ms/step - loss: 0.0922 - accuracy: 0.9600 - val_loss: 0.1024 - val_accuracy: 0.9635\n",
            "Epoch 148/200\n",
            "1/1 [==============================] - 0s 247ms/step - loss: 0.0914 - accuracy: 0.9600 - val_loss: 0.1015 - val_accuracy: 0.9635\n",
            "Epoch 149/200\n",
            "1/1 [==============================] - 0s 248ms/step - loss: 0.0899 - accuracy: 0.9603 - val_loss: 0.1007 - val_accuracy: 0.9647\n",
            "Epoch 150/200\n",
            "1/1 [==============================] - 0s 210ms/step - loss: 0.0879 - accuracy: 0.9606 - val_loss: 0.0998 - val_accuracy: 0.9647\n",
            "Epoch 151/200\n",
            "1/1 [==============================] - 0s 301ms/step - loss: 0.0881 - accuracy: 0.9606 - val_loss: 0.0990 - val_accuracy: 0.9659\n",
            "Epoch 152/200\n",
            "1/1 [==============================] - 0s 317ms/step - loss: 0.0859 - accuracy: 0.9606 - val_loss: 0.0982 - val_accuracy: 0.9671\n",
            "Epoch 153/200\n",
            "1/1 [==============================] - 0s 361ms/step - loss: 0.0845 - accuracy: 0.9619 - val_loss: 0.0973 - val_accuracy: 0.9671\n",
            "Epoch 154/200\n",
            "1/1 [==============================] - 0s 345ms/step - loss: 0.0834 - accuracy: 0.9628 - val_loss: 0.0965 - val_accuracy: 0.9682\n",
            "Epoch 155/200\n",
            "1/1 [==============================] - 0s 352ms/step - loss: 0.0823 - accuracy: 0.9638 - val_loss: 0.0957 - val_accuracy: 0.9694\n",
            "Epoch 156/200\n",
            "1/1 [==============================] - 0s 366ms/step - loss: 0.0808 - accuracy: 0.9634 - val_loss: 0.0949 - val_accuracy: 0.9694\n",
            "Epoch 157/200\n",
            "1/1 [==============================] - 0s 260ms/step - loss: 0.0797 - accuracy: 0.9650 - val_loss: 0.0941 - val_accuracy: 0.9694\n",
            "Epoch 158/200\n",
            "1/1 [==============================] - 0s 219ms/step - loss: 0.0785 - accuracy: 0.9666 - val_loss: 0.0933 - val_accuracy: 0.9706\n",
            "Epoch 159/200\n",
            "1/1 [==============================] - 0s 218ms/step - loss: 0.0775 - accuracy: 0.9656 - val_loss: 0.0925 - val_accuracy: 0.9718\n",
            "Epoch 160/200\n",
            "1/1 [==============================] - 0s 237ms/step - loss: 0.0766 - accuracy: 0.9659 - val_loss: 0.0917 - val_accuracy: 0.9718\n",
            "Epoch 161/200\n",
            "1/1 [==============================] - 0s 237ms/step - loss: 0.0757 - accuracy: 0.9672 - val_loss: 0.0910 - val_accuracy: 0.9729\n",
            "Epoch 162/200\n",
            "1/1 [==============================] - 0s 246ms/step - loss: 0.0743 - accuracy: 0.9684 - val_loss: 0.0903 - val_accuracy: 0.9741\n",
            "Epoch 163/200\n",
            "1/1 [==============================] - 0s 213ms/step - loss: 0.0731 - accuracy: 0.9706 - val_loss: 0.0895 - val_accuracy: 0.9753\n",
            "Epoch 164/200\n",
            "1/1 [==============================] - 0s 209ms/step - loss: 0.0719 - accuracy: 0.9706 - val_loss: 0.0888 - val_accuracy: 0.9765\n",
            "Epoch 165/200\n",
            "1/1 [==============================] - 0s 210ms/step - loss: 0.0713 - accuracy: 0.9722 - val_loss: 0.0881 - val_accuracy: 0.9765\n",
            "Epoch 166/200\n",
            "1/1 [==============================] - 0s 230ms/step - loss: 0.0707 - accuracy: 0.9741 - val_loss: 0.0874 - val_accuracy: 0.9776\n",
            "Epoch 167/200\n",
            "1/1 [==============================] - 0s 238ms/step - loss: 0.0696 - accuracy: 0.9722 - val_loss: 0.0867 - val_accuracy: 0.9776\n",
            "Epoch 168/200\n",
            "1/1 [==============================] - 0s 243ms/step - loss: 0.0686 - accuracy: 0.9756 - val_loss: 0.0861 - val_accuracy: 0.9788\n",
            "Epoch 169/200\n",
            "1/1 [==============================] - 0s 234ms/step - loss: 0.0678 - accuracy: 0.9778 - val_loss: 0.0855 - val_accuracy: 0.9788\n",
            "Epoch 170/200\n",
            "1/1 [==============================] - 0s 218ms/step - loss: 0.0664 - accuracy: 0.9787 - val_loss: 0.0850 - val_accuracy: 0.9812\n",
            "Epoch 171/200\n",
            "1/1 [==============================] - 0s 215ms/step - loss: 0.0659 - accuracy: 0.9784 - val_loss: 0.0844 - val_accuracy: 0.9812\n",
            "Epoch 172/200\n",
            "1/1 [==============================] - 0s 232ms/step - loss: 0.0641 - accuracy: 0.9816 - val_loss: 0.0838 - val_accuracy: 0.9812\n",
            "Epoch 173/200\n",
            "1/1 [==============================] - 0s 213ms/step - loss: 0.0641 - accuracy: 0.9803 - val_loss: 0.0832 - val_accuracy: 0.9824\n",
            "Epoch 174/200\n",
            "1/1 [==============================] - 0s 210ms/step - loss: 0.0626 - accuracy: 0.9831 - val_loss: 0.0827 - val_accuracy: 0.9824\n",
            "Epoch 175/200\n",
            "1/1 [==============================] - 0s 277ms/step - loss: 0.0622 - accuracy: 0.9822 - val_loss: 0.0822 - val_accuracy: 0.9835\n",
            "Epoch 176/200\n",
            "1/1 [==============================] - 0s 210ms/step - loss: 0.0619 - accuracy: 0.9825 - val_loss: 0.0817 - val_accuracy: 0.9835\n",
            "Epoch 177/200\n",
            "1/1 [==============================] - 0s 241ms/step - loss: 0.0602 - accuracy: 0.9837 - val_loss: 0.0812 - val_accuracy: 0.9847\n",
            "Epoch 178/200\n",
            "1/1 [==============================] - 0s 210ms/step - loss: 0.0601 - accuracy: 0.9847 - val_loss: 0.0807 - val_accuracy: 0.9847\n",
            "Epoch 179/200\n",
            "1/1 [==============================] - 0s 218ms/step - loss: 0.0593 - accuracy: 0.9862 - val_loss: 0.0804 - val_accuracy: 0.9847\n",
            "Epoch 180/200\n",
            "1/1 [==============================] - 0s 209ms/step - loss: 0.0587 - accuracy: 0.9850 - val_loss: 0.0800 - val_accuracy: 0.9847\n",
            "Epoch 181/200\n",
            "1/1 [==============================] - 0s 206ms/step - loss: 0.0581 - accuracy: 0.9853 - val_loss: 0.0795 - val_accuracy: 0.9847\n",
            "Epoch 182/200\n",
            "1/1 [==============================] - 0s 206ms/step - loss: 0.0571 - accuracy: 0.9875 - val_loss: 0.0791 - val_accuracy: 0.9847\n",
            "Epoch 183/200\n",
            "1/1 [==============================] - 0s 213ms/step - loss: 0.0559 - accuracy: 0.9881 - val_loss: 0.0787 - val_accuracy: 0.9847\n",
            "Epoch 184/200\n",
            "1/1 [==============================] - 0s 218ms/step - loss: 0.0552 - accuracy: 0.9878 - val_loss: 0.0784 - val_accuracy: 0.9847\n",
            "Epoch 185/200\n",
            "1/1 [==============================] - 0s 235ms/step - loss: 0.0549 - accuracy: 0.9894 - val_loss: 0.0780 - val_accuracy: 0.9847\n",
            "Epoch 186/200\n",
            "1/1 [==============================] - 0s 198ms/step - loss: 0.0541 - accuracy: 0.9891 - val_loss: 0.0777 - val_accuracy: 0.9847\n",
            "Epoch 187/200\n",
            "1/1 [==============================] - 0s 207ms/step - loss: 0.0533 - accuracy: 0.9897 - val_loss: 0.0773 - val_accuracy: 0.9847\n",
            "Epoch 188/200\n",
            "1/1 [==============================] - 0s 232ms/step - loss: 0.0531 - accuracy: 0.9897 - val_loss: 0.0769 - val_accuracy: 0.9847\n",
            "Epoch 189/200\n",
            "1/1 [==============================] - 0s 209ms/step - loss: 0.0526 - accuracy: 0.9894 - val_loss: 0.0766 - val_accuracy: 0.9847\n",
            "Epoch 190/200\n",
            "1/1 [==============================] - 0s 211ms/step - loss: 0.0512 - accuracy: 0.9906 - val_loss: 0.0763 - val_accuracy: 0.9847\n",
            "Epoch 191/200\n",
            "1/1 [==============================] - 0s 210ms/step - loss: 0.0505 - accuracy: 0.9922 - val_loss: 0.0760 - val_accuracy: 0.9847\n",
            "Epoch 192/200\n",
            "1/1 [==============================] - 0s 199ms/step - loss: 0.0507 - accuracy: 0.9897 - val_loss: 0.0757 - val_accuracy: 0.9847\n",
            "Epoch 193/200\n",
            "1/1 [==============================] - 0s 222ms/step - loss: 0.0496 - accuracy: 0.9919 - val_loss: 0.0755 - val_accuracy: 0.9859\n",
            "Epoch 194/200\n",
            "1/1 [==============================] - 0s 239ms/step - loss: 0.0494 - accuracy: 0.9922 - val_loss: 0.0750 - val_accuracy: 0.9859\n",
            "Epoch 195/200\n",
            "1/1 [==============================] - 0s 215ms/step - loss: 0.0489 - accuracy: 0.9919 - val_loss: 0.0745 - val_accuracy: 0.9847\n",
            "Epoch 196/200\n",
            "1/1 [==============================] - 0s 207ms/step - loss: 0.0479 - accuracy: 0.9922 - val_loss: 0.0741 - val_accuracy: 0.9847\n",
            "Epoch 197/200\n",
            "1/1 [==============================] - 0s 215ms/step - loss: 0.0476 - accuracy: 0.9912 - val_loss: 0.0739 - val_accuracy: 0.9847\n",
            "Epoch 198/200\n",
            "1/1 [==============================] - 0s 255ms/step - loss: 0.0472 - accuracy: 0.9925 - val_loss: 0.0738 - val_accuracy: 0.9847\n",
            "Epoch 199/200\n",
            "1/1 [==============================] - 0s 248ms/step - loss: 0.0460 - accuracy: 0.9925 - val_loss: 0.0738 - val_accuracy: 0.9859\n",
            "Epoch 200/200\n",
            "1/1 [==============================] - 0s 248ms/step - loss: 0.0455 - accuracy: 0.9919 - val_loss: 0.0737 - val_accuracy: 0.9859\n"
          ]
        }
      ]
    },
    {
      "cell_type": "markdown",
      "source": [
        "#### Evaluasi"
      ],
      "metadata": {
        "id": "S_Al7qP0y0d2"
      }
    },
    {
      "cell_type": "code",
      "source": [
        "model.evaluate(x_test, np.array(y_test))"
      ],
      "metadata": {
        "colab": {
          "base_uri": "https://localhost:8080/"
        },
        "id": "99-PXZ0eaJHV",
        "outputId": "7d3b33c3-ae5c-42fc-e772-7e284cfbcbe3"
      },
      "execution_count": null,
      "outputs": [
        {
          "output_type": "stream",
          "name": "stdout",
          "text": [
            "1/1 [==============================] - 0s 84ms/step - loss: 0.1131 - accuracy: 0.9740\n"
          ]
        },
        {
          "output_type": "execute_result",
          "data": {
            "text/plain": [
              "[0.11306504160165787, 0.9739999771118164]"
            ]
          },
          "metadata": {},
          "execution_count": 27
        }
      ]
    },
    {
      "cell_type": "code",
      "source": [
        "i = np.random.randint(0, x_test.shape[0])\n",
        "p = model.predict(np.array([x_test[i]]))\n",
        "p = np.argmax(p, axis=-1)\n",
        "\n",
        "y_true = np.argmax(np.array(y_test), axis=-1)[i]\n",
        "print(\"{:15}{:5}\\t {}\\n\".format(\"Word\",\"True\",\"Pred\"))\n",
        "print(\"-\"*30)\n",
        "for w,true,pred in zip(x_test[i], y_true, p[0]):\n",
        "  print(\"{:15}{:5}\\t{}\".format(words[w-1], tags[true],tags[pred]))"
      ],
      "metadata": {
        "colab": {
          "base_uri": "https://localhost:8080/"
        },
        "id": "bi7FvOleaNpI",
        "outputId": "f91ddb63-929e-4065-e4aa-f0b41701e8cf"
      },
      "execution_count": null,
      "outputs": [
        {
          "output_type": "stream",
          "name": "stdout",
          "text": [
            "1/1 [==============================] - 0s 44ms/step\n",
            "Word           True \t Pred\n",
            "\n",
            "------------------------------\n",
            "Proyek         O    \tO\n",
            "pengembangan   O    \tO\n",
            "aplikasi       O    \tO\n",
            "dimulai        O    \tO\n",
            "minggu         WAKTU\tO\n",
            "depan          WAKTU\tWAKTU\n",
            ".              O    \tO\n",
            "strategis      O    \tO\n",
            "strategis      O    \tO\n",
            "strategis      O    \tO\n",
            "strategis      O    \tO\n",
            "strategis      O    \tO\n",
            "strategis      O    \tO\n",
            "strategis      O    \tO\n",
            "strategis      O    \tO\n",
            "strategis      O    \tO\n",
            "strategis      O    \tO\n",
            "strategis      O    \tO\n",
            "strategis      O    \tO\n",
            "strategis      O    \tO\n",
            "strategis      O    \tO\n",
            "strategis      O    \tO\n",
            "strategis      O    \tO\n",
            "strategis      O    \tO\n",
            "strategis      O    \tO\n",
            "strategis      O    \tO\n",
            "strategis      O    \tO\n",
            "strategis      O    \tO\n",
            "strategis      O    \tO\n",
            "strategis      O    \tO\n",
            "strategis      O    \tO\n",
            "strategis      O    \tO\n",
            "strategis      O    \tO\n",
            "strategis      O    \tO\n",
            "strategis      O    \tO\n",
            "strategis      O    \tO\n",
            "strategis      O    \tO\n",
            "strategis      O    \tO\n",
            "strategis      O    \tO\n",
            "strategis      O    \tO\n",
            "strategis      O    \tO\n",
            "strategis      O    \tO\n",
            "strategis      O    \tO\n",
            "strategis      O    \tO\n",
            "strategis      O    \tO\n",
            "strategis      O    \tO\n",
            "strategis      O    \tO\n",
            "strategis      O    \tO\n",
            "strategis      O    \tO\n",
            "strategis      O    \tO\n"
          ]
        }
      ]
    },
    {
      "cell_type": "markdown",
      "source": [
        "### Inference"
      ],
      "metadata": {
        "id": "mQ948N9Py4DR"
      }
    },
    {
      "cell_type": "code",
      "source": [
        "def predict_tags(text):\n",
        "    words = text.split()\n",
        "    x_test_sent = [word2idx.get(w, num_words-1) for w in words]\n",
        "    x_test_sent = pad_sequences([x_test_sent], maxlen=max_len, padding='post', value=num_words-1)\n",
        "    p = model.predict(np.array([x_test_sent[0]]))\n",
        "    p = np.argmax(p, axis=-1)\n",
        "    print(\"{:15}{:5}\\n\".format(\"Word\", \"Pred\"))\n",
        "    print(\"-\"*30)\n",
        "    for w, pred in zip(words, p[0]):\n",
        "        print(\"{:15}:{:5}\".format(w, tags[pred]))\n",
        "\n",
        "predict_tags(\"Saya akan menghadiri konser di Jakarta pada hari Sabtu.\")\n"
      ],
      "metadata": {
        "colab": {
          "base_uri": "https://localhost:8080/"
        },
        "id": "ZsAw3KK-bHQl",
        "outputId": "9b287c14-86b8-46bc-c924-92c59d66cc23"
      },
      "execution_count": null,
      "outputs": [
        {
          "output_type": "stream",
          "name": "stdout",
          "text": [
            "1/1 [==============================] - 0s 43ms/step\n",
            "Word           Pred \n",
            "\n",
            "------------------------------\n",
            "Saya           :O    \n",
            "akan           :O    \n",
            "menghadiri     :O    \n",
            "konser         :O    \n",
            "di             :O    \n",
            "Jakarta        :O    \n",
            "pada           :O    \n",
            "hari           :WAKTU\n",
            "Sabtu.         :O    \n"
          ]
        }
      ]
    },
    {
      "cell_type": "code",
      "source": [
        "predict_tags(\"Tolong kirimkan beberapa dokumen ke email lisa dari perusahaan BP di alamat lisa@email.com.\")"
      ],
      "metadata": {
        "colab": {
          "base_uri": "https://localhost:8080/"
        },
        "id": "gdRLnZbkdLQe",
        "outputId": "2885b37d-452b-4b1f-cad8-a027ffff0a1a"
      },
      "execution_count": null,
      "outputs": [
        {
          "output_type": "stream",
          "name": "stdout",
          "text": [
            "1/1 [==============================] - 0s 46ms/step\n",
            "Word           Pred \n",
            "\n",
            "------------------------------\n",
            "Tolong         :O    \n",
            "kirimkan       :O    \n",
            "beberapa       :O    \n",
            "dokumen        :O    \n",
            "ke             :O    \n",
            "email          :O    \n",
            "lisa           :O    \n",
            "dari           :O    \n",
            "perusahaan     :PERUSAHAAN\n",
            "BP             :PERUSAHAAN\n",
            "di             :O    \n",
            "alamat         :O    \n",
            "lisa@email.com.:O    \n"
          ]
        }
      ]
    },
    {
      "cell_type": "code",
      "source": [
        "predict_tags(\"Mohon kirimkan rincian kontrak ke email saya di john@email.com secepatnya.\")"
      ],
      "metadata": {
        "colab": {
          "base_uri": "https://localhost:8080/"
        },
        "id": "ADV1jee5dUvt",
        "outputId": "cfbab31f-193a-4b6f-ee0a-1ff94ccb5162"
      },
      "execution_count": null,
      "outputs": [
        {
          "output_type": "stream",
          "name": "stdout",
          "text": [
            "1/1 [==============================] - 0s 45ms/step\n",
            "Word           Pred \n",
            "\n",
            "------------------------------\n",
            "Mohon          :O    \n",
            "kirimkan       :O    \n",
            "rincian        :O    \n",
            "kontrak        :O    \n",
            "ke             :O    \n",
            "email          :O    \n",
            "saya           :O    \n",
            "di             :O    \n",
            "john@email.com :O    \n",
            "secepatnya.    :O    \n"
          ]
        }
      ]
    },
    {
      "cell_type": "code",
      "source": [
        "from tensorflow.keras.models import load_model\n",
        "\n",
        "model.save('ner-lstm.h5')\n",
        "\n",
        "# loaded_model = load_model('ner-lstm.h5')"
      ],
      "metadata": {
        "colab": {
          "base_uri": "https://localhost:8080/"
        },
        "id": "kdN0FSojzBeb",
        "outputId": "e89156b9-381d-4877-ef81-67fbcc71ac4e"
      },
      "execution_count": null,
      "outputs": [
        {
          "output_type": "stream",
          "name": "stderr",
          "text": [
            "/usr/local/lib/python3.10/dist-packages/keras/src/engine/training.py:3103: UserWarning: You are saving your model as an HDF5 file via `model.save()`. This file format is considered legacy. We recommend using instead the native Keras format, e.g. `model.save('my_model.keras')`.\n",
            "  saving_api.save_model(\n"
          ]
        }
      ]
    }
  ]
}